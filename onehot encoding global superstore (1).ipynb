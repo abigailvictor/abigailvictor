{
 "cells": [
  {
   "cell_type": "code",
   "execution_count": 2,
   "id": "519bf1c7",
   "metadata": {},
   "outputs": [],
   "source": [
    "import pandas as pd\n",
    "import matplotlib.pyplot as plt\n",
    "import seaborn as sns"
   ]
  },
  {
   "cell_type": "code",
   "execution_count": 3,
   "id": "0564ab63",
   "metadata": {},
   "outputs": [],
   "source": [
    "df=pd.read_excel('global-superstore.xlsx')"
   ]
  },
  {
   "cell_type": "code",
   "execution_count": 4,
   "id": "ab9c3338",
   "metadata": {},
   "outputs": [
    {
     "name": "stdout",
     "output_type": "stream",
     "text": [
      "<class 'pandas.core.frame.DataFrame'>\n",
      "RangeIndex: 51290 entries, 0 to 51289\n",
      "Data columns (total 24 columns):\n",
      " #   Column          Non-Null Count  Dtype         \n",
      "---  ------          --------------  -----         \n",
      " 0   Row ID          51290 non-null  int64         \n",
      " 1   Order ID        51290 non-null  object        \n",
      " 2   Order Date      51290 non-null  datetime64[ns]\n",
      " 3   Ship Date       51290 non-null  datetime64[ns]\n",
      " 4   Ship Mode       51290 non-null  object        \n",
      " 5   Customer ID     51290 non-null  object        \n",
      " 6   Customer Name   51290 non-null  object        \n",
      " 7   Segment         51290 non-null  object        \n",
      " 8   City            51290 non-null  object        \n",
      " 9   State           51290 non-null  object        \n",
      " 10  Country         51290 non-null  object        \n",
      " 11  Postal Code     9994 non-null   float64       \n",
      " 12  Market          51290 non-null  object        \n",
      " 13  Region          51290 non-null  object        \n",
      " 14  Product ID      51290 non-null  object        \n",
      " 15  Category        51290 non-null  object        \n",
      " 16  Sub-Category    51290 non-null  object        \n",
      " 17  Product Name    51290 non-null  object        \n",
      " 18  Sales           51290 non-null  float64       \n",
      " 19  Quantity        51290 non-null  int64         \n",
      " 20  Discount        51290 non-null  float64       \n",
      " 21  Profit          51290 non-null  float64       \n",
      " 22  Shipping Cost   51290 non-null  float64       \n",
      " 23  Order Priority  51290 non-null  object        \n",
      "dtypes: datetime64[ns](2), float64(5), int64(2), object(15)\n",
      "memory usage: 9.4+ MB\n"
     ]
    }
   ],
   "source": [
    "df.info()"
   ]
  },
  {
   "cell_type": "code",
   "execution_count": 5,
   "id": "4908fc3c",
   "metadata": {},
   "outputs": [
    {
     "data": {
      "text/html": [
       "<div>\n",
       "<style scoped>\n",
       "    .dataframe tbody tr th:only-of-type {\n",
       "        vertical-align: middle;\n",
       "    }\n",
       "\n",
       "    .dataframe tbody tr th {\n",
       "        vertical-align: top;\n",
       "    }\n",
       "\n",
       "    .dataframe thead th {\n",
       "        text-align: right;\n",
       "    }\n",
       "</style>\n",
       "<table border=\"1\" class=\"dataframe\">\n",
       "  <thead>\n",
       "    <tr style=\"text-align: right;\">\n",
       "      <th></th>\n",
       "      <th>Row ID</th>\n",
       "      <th>Order ID</th>\n",
       "      <th>Order Date</th>\n",
       "      <th>Ship Date</th>\n",
       "      <th>Ship Mode</th>\n",
       "      <th>Customer ID</th>\n",
       "      <th>Customer Name</th>\n",
       "      <th>Segment</th>\n",
       "      <th>City</th>\n",
       "      <th>State</th>\n",
       "      <th>...</th>\n",
       "      <th>Product ID</th>\n",
       "      <th>Category</th>\n",
       "      <th>Sub-Category</th>\n",
       "      <th>Product Name</th>\n",
       "      <th>Sales</th>\n",
       "      <th>Quantity</th>\n",
       "      <th>Discount</th>\n",
       "      <th>Profit</th>\n",
       "      <th>Shipping Cost</th>\n",
       "      <th>Order Priority</th>\n",
       "    </tr>\n",
       "  </thead>\n",
       "  <tbody>\n",
       "    <tr>\n",
       "      <th>0</th>\n",
       "      <td>32298</td>\n",
       "      <td>CA-2012-124891</td>\n",
       "      <td>2012-07-31</td>\n",
       "      <td>2012-07-31</td>\n",
       "      <td>Same Day</td>\n",
       "      <td>RH-19495</td>\n",
       "      <td>Rick Hansen</td>\n",
       "      <td>Consumer</td>\n",
       "      <td>New York City</td>\n",
       "      <td>New York</td>\n",
       "      <td>...</td>\n",
       "      <td>TEC-AC-10003033</td>\n",
       "      <td>Technology</td>\n",
       "      <td>Accessories</td>\n",
       "      <td>Plantronics CS510 - Over-the-Head monaural Wir...</td>\n",
       "      <td>2309.650</td>\n",
       "      <td>7</td>\n",
       "      <td>0.0</td>\n",
       "      <td>762.1845</td>\n",
       "      <td>933.57</td>\n",
       "      <td>Critical</td>\n",
       "    </tr>\n",
       "    <tr>\n",
       "      <th>1</th>\n",
       "      <td>26341</td>\n",
       "      <td>IN-2013-77878</td>\n",
       "      <td>2013-02-05</td>\n",
       "      <td>2013-02-07</td>\n",
       "      <td>Second Class</td>\n",
       "      <td>JR-16210</td>\n",
       "      <td>Justin Ritter</td>\n",
       "      <td>Corporate</td>\n",
       "      <td>Wollongong</td>\n",
       "      <td>New South Wales</td>\n",
       "      <td>...</td>\n",
       "      <td>FUR-CH-10003950</td>\n",
       "      <td>Furniture</td>\n",
       "      <td>Chairs</td>\n",
       "      <td>Novimex Executive Leather Armchair, Black</td>\n",
       "      <td>3709.395</td>\n",
       "      <td>9</td>\n",
       "      <td>0.1</td>\n",
       "      <td>-288.7650</td>\n",
       "      <td>923.63</td>\n",
       "      <td>Critical</td>\n",
       "    </tr>\n",
       "    <tr>\n",
       "      <th>2</th>\n",
       "      <td>25330</td>\n",
       "      <td>IN-2013-71249</td>\n",
       "      <td>2013-10-17</td>\n",
       "      <td>2013-10-18</td>\n",
       "      <td>First Class</td>\n",
       "      <td>CR-12730</td>\n",
       "      <td>Craig Reiter</td>\n",
       "      <td>Consumer</td>\n",
       "      <td>Brisbane</td>\n",
       "      <td>Queensland</td>\n",
       "      <td>...</td>\n",
       "      <td>TEC-PH-10004664</td>\n",
       "      <td>Technology</td>\n",
       "      <td>Phones</td>\n",
       "      <td>Nokia Smart Phone, with Caller ID</td>\n",
       "      <td>5175.171</td>\n",
       "      <td>9</td>\n",
       "      <td>0.1</td>\n",
       "      <td>919.9710</td>\n",
       "      <td>915.49</td>\n",
       "      <td>Medium</td>\n",
       "    </tr>\n",
       "    <tr>\n",
       "      <th>3</th>\n",
       "      <td>13524</td>\n",
       "      <td>ES-2013-1579342</td>\n",
       "      <td>2013-01-28</td>\n",
       "      <td>2013-01-30</td>\n",
       "      <td>First Class</td>\n",
       "      <td>KM-16375</td>\n",
       "      <td>Katherine Murray</td>\n",
       "      <td>Home Office</td>\n",
       "      <td>Berlin</td>\n",
       "      <td>Berlin</td>\n",
       "      <td>...</td>\n",
       "      <td>TEC-PH-10004583</td>\n",
       "      <td>Technology</td>\n",
       "      <td>Phones</td>\n",
       "      <td>Motorola Smart Phone, Cordless</td>\n",
       "      <td>2892.510</td>\n",
       "      <td>5</td>\n",
       "      <td>0.1</td>\n",
       "      <td>-96.5400</td>\n",
       "      <td>910.16</td>\n",
       "      <td>Medium</td>\n",
       "    </tr>\n",
       "    <tr>\n",
       "      <th>4</th>\n",
       "      <td>47221</td>\n",
       "      <td>SG-2013-4320</td>\n",
       "      <td>2013-11-05</td>\n",
       "      <td>2013-11-06</td>\n",
       "      <td>Same Day</td>\n",
       "      <td>RH-9495</td>\n",
       "      <td>Rick Hansen</td>\n",
       "      <td>Consumer</td>\n",
       "      <td>Dakar</td>\n",
       "      <td>Dakar</td>\n",
       "      <td>...</td>\n",
       "      <td>TEC-SHA-10000501</td>\n",
       "      <td>Technology</td>\n",
       "      <td>Copiers</td>\n",
       "      <td>Sharp Wireless Fax, High-Speed</td>\n",
       "      <td>2832.960</td>\n",
       "      <td>8</td>\n",
       "      <td>0.0</td>\n",
       "      <td>311.5200</td>\n",
       "      <td>903.04</td>\n",
       "      <td>Critical</td>\n",
       "    </tr>\n",
       "  </tbody>\n",
       "</table>\n",
       "<p>5 rows × 24 columns</p>\n",
       "</div>"
      ],
      "text/plain": [
       "   Row ID         Order ID Order Date  Ship Date     Ship Mode Customer ID  \\\n",
       "0   32298   CA-2012-124891 2012-07-31 2012-07-31      Same Day    RH-19495   \n",
       "1   26341    IN-2013-77878 2013-02-05 2013-02-07  Second Class    JR-16210   \n",
       "2   25330    IN-2013-71249 2013-10-17 2013-10-18   First Class    CR-12730   \n",
       "3   13524  ES-2013-1579342 2013-01-28 2013-01-30   First Class    KM-16375   \n",
       "4   47221     SG-2013-4320 2013-11-05 2013-11-06      Same Day     RH-9495   \n",
       "\n",
       "      Customer Name      Segment           City            State  ...  \\\n",
       "0       Rick Hansen     Consumer  New York City         New York  ...   \n",
       "1     Justin Ritter    Corporate     Wollongong  New South Wales  ...   \n",
       "2      Craig Reiter     Consumer       Brisbane       Queensland  ...   \n",
       "3  Katherine Murray  Home Office         Berlin           Berlin  ...   \n",
       "4       Rick Hansen     Consumer          Dakar            Dakar  ...   \n",
       "\n",
       "         Product ID    Category Sub-Category  \\\n",
       "0   TEC-AC-10003033  Technology  Accessories   \n",
       "1   FUR-CH-10003950   Furniture       Chairs   \n",
       "2   TEC-PH-10004664  Technology       Phones   \n",
       "3   TEC-PH-10004583  Technology       Phones   \n",
       "4  TEC-SHA-10000501  Technology      Copiers   \n",
       "\n",
       "                                        Product Name     Sales Quantity  \\\n",
       "0  Plantronics CS510 - Over-the-Head monaural Wir...  2309.650        7   \n",
       "1          Novimex Executive Leather Armchair, Black  3709.395        9   \n",
       "2                  Nokia Smart Phone, with Caller ID  5175.171        9   \n",
       "3                     Motorola Smart Phone, Cordless  2892.510        5   \n",
       "4                     Sharp Wireless Fax, High-Speed  2832.960        8   \n",
       "\n",
       "  Discount    Profit  Shipping Cost  Order Priority  \n",
       "0      0.0  762.1845         933.57        Critical  \n",
       "1      0.1 -288.7650         923.63        Critical  \n",
       "2      0.1  919.9710         915.49          Medium  \n",
       "3      0.1  -96.5400         910.16          Medium  \n",
       "4      0.0  311.5200         903.04        Critical  \n",
       "\n",
       "[5 rows x 24 columns]"
      ]
     },
     "execution_count": 5,
     "metadata": {},
     "output_type": "execute_result"
    }
   ],
   "source": [
    "df.head()"
   ]
  },
  {
   "cell_type": "code",
   "execution_count": 6,
   "id": "a6890be6",
   "metadata": {},
   "outputs": [
    {
     "data": {
      "text/plain": [
       "Index(['Row ID', 'Order ID', 'Order Date', 'Ship Date', 'Ship Mode',\n",
       "       'Customer ID', 'Customer Name', 'Segment', 'City', 'State', 'Country',\n",
       "       'Postal Code', 'Market', 'Region', 'Product ID', 'Category',\n",
       "       'Sub-Category', 'Product Name', 'Sales', 'Quantity', 'Discount',\n",
       "       'Profit', 'Shipping Cost', 'Order Priority'],\n",
       "      dtype='object')"
      ]
     },
     "execution_count": 6,
     "metadata": {},
     "output_type": "execute_result"
    }
   ],
   "source": [
    "df.columns\n",
    "#columns that can be used as target variable for linear regression=sales\n",
    "#we need to predict sales using other variables"
   ]
  },
  {
   "cell_type": "code",
   "execution_count": 7,
   "id": "1dc840d2",
   "metadata": {},
   "outputs": [],
   "source": [
    "#drop irrelevant columns \n",
    "df.drop(columns=['Row ID','Order ID','Customer ID'], inplace = True)\n"
   ]
  },
  {
   "cell_type": "code",
   "execution_count": 8,
   "id": "a5cda835",
   "metadata": {},
   "outputs": [
    {
     "data": {
      "image/png": "[encoded data removed]",
      "text/plain": [
       "<Figure size 1500x1000 with 9 Axes>"
      ]
     },
     "metadata": {},
     "output_type": "display_data"
    }
   ],
   "source": [
    "df.hist(figsize=(15,10))\n",
    "plt.show()"
   ]
  },
  {
   "cell_type": "code",
   "execution_count": 9,
   "id": "529b5f6b",
   "metadata": {},
   "outputs": [],
   "source": [
    "#order increase per time\n",
    "#outliers in sales,shipping,discount, sales\n",
    "#split data into train and test\n",
    "\n",
    "from sklearn.model_selection import train_test_split"
   ]
  },
  {
   "cell_type": "code",
   "execution_count": 10,
   "id": "c1876376",
   "metadata": {},
   "outputs": [
    {
     "data": {
      "text/plain": [
       "(51290, 21)"
      ]
     },
     "execution_count": 10,
     "metadata": {},
     "output_type": "execute_result"
    }
   ],
   "source": [
    "df.shape"
   ]
  },
  {
   "cell_type": "code",
   "execution_count": 11,
   "id": "4e8486b6",
   "metadata": {},
   "outputs": [
    {
     "data": {
      "text/plain": [
       "5129.0"
      ]
     },
     "execution_count": 11,
     "metadata": {},
     "output_type": "execute_result"
    }
   ],
   "source": [
    ".1*51290 #number of rows to check generalization ability"
   ]
  },
  {
   "cell_type": "code",
   "execution_count": 12,
   "id": "213e4488",
   "metadata": {},
   "outputs": [],
   "source": [
    "train,test=train_test_split(df,test_size=.1,random_state=5)"
   ]
  },
  {
   "cell_type": "markdown",
   "id": "600cded0",
   "metadata": {},
   "source": [
    "## seperation and preprocessing and for training and validation"
   ]
  },
  {
   "cell_type": "code",
   "execution_count": 13,
   "id": "d4b6c020",
   "metadata": {},
   "outputs": [
    {
     "data": {
      "text/html": [
       "<div>\n",
       "<style scoped>\n",
       "    .dataframe tbody tr th:only-of-type {\n",
       "        vertical-align: middle;\n",
       "    }\n",
       "\n",
       "    .dataframe tbody tr th {\n",
       "        vertical-align: top;\n",
       "    }\n",
       "\n",
       "    .dataframe thead th {\n",
       "        text-align: right;\n",
       "    }\n",
       "</style>\n",
       "<table border=\"1\" class=\"dataframe\">\n",
       "  <thead>\n",
       "    <tr style=\"text-align: right;\">\n",
       "      <th></th>\n",
       "      <th>Order Date</th>\n",
       "      <th>Ship Date</th>\n",
       "      <th>Ship Mode</th>\n",
       "      <th>Customer Name</th>\n",
       "      <th>Segment</th>\n",
       "      <th>City</th>\n",
       "      <th>State</th>\n",
       "      <th>Country</th>\n",
       "      <th>Postal Code</th>\n",
       "      <th>Market</th>\n",
       "      <th>...</th>\n",
       "      <th>Product ID</th>\n",
       "      <th>Category</th>\n",
       "      <th>Sub-Category</th>\n",
       "      <th>Product Name</th>\n",
       "      <th>Sales</th>\n",
       "      <th>Quantity</th>\n",
       "      <th>Discount</th>\n",
       "      <th>Profit</th>\n",
       "      <th>Shipping Cost</th>\n",
       "      <th>Order Priority</th>\n",
       "    </tr>\n",
       "  </thead>\n",
       "  <tbody>\n",
       "    <tr>\n",
       "      <th>19288</th>\n",
       "      <td>2013-05-13</td>\n",
       "      <td>2013-05-18</td>\n",
       "      <td>Second Class</td>\n",
       "      <td>Meg Tillman</td>\n",
       "      <td>Consumer</td>\n",
       "      <td>Lagos</td>\n",
       "      <td>Lagos</td>\n",
       "      <td>Nigeria</td>\n",
       "      <td>NaN</td>\n",
       "      <td>Africa</td>\n",
       "      <td>...</td>\n",
       "      <td>FUR-SAF-10003469</td>\n",
       "      <td>Furniture</td>\n",
       "      <td>Bookcases</td>\n",
       "      <td>Safco Classic Bookcase, Traditional</td>\n",
       "      <td>262.890</td>\n",
       "      <td>2</td>\n",
       "      <td>0.7</td>\n",
       "      <td>-385.590</td>\n",
       "      <td>13.280</td>\n",
       "      <td>Medium</td>\n",
       "    </tr>\n",
       "    <tr>\n",
       "      <th>46200</th>\n",
       "      <td>2013-11-13</td>\n",
       "      <td>2013-11-15</td>\n",
       "      <td>First Class</td>\n",
       "      <td>Anthony Witt</td>\n",
       "      <td>Consumer</td>\n",
       "      <td>Izmir</td>\n",
       "      <td>Izmir</td>\n",
       "      <td>Turkey</td>\n",
       "      <td>NaN</td>\n",
       "      <td>EMEA</td>\n",
       "      <td>...</td>\n",
       "      <td>OFF-STO-10004495</td>\n",
       "      <td>Office Supplies</td>\n",
       "      <td>Fasteners</td>\n",
       "      <td>Stockwell Thumb Tacks, Bulk Pack</td>\n",
       "      <td>5.412</td>\n",
       "      <td>1</td>\n",
       "      <td>0.6</td>\n",
       "      <td>-3.948</td>\n",
       "      <td>1.030</td>\n",
       "      <td>Medium</td>\n",
       "    </tr>\n",
       "    <tr>\n",
       "      <th>43251</th>\n",
       "      <td>2014-12-15</td>\n",
       "      <td>2014-12-19</td>\n",
       "      <td>Standard Class</td>\n",
       "      <td>James Galang</td>\n",
       "      <td>Consumer</td>\n",
       "      <td>Ibadan</td>\n",
       "      <td>Oyo</td>\n",
       "      <td>Nigeria</td>\n",
       "      <td>NaN</td>\n",
       "      <td>Africa</td>\n",
       "      <td>...</td>\n",
       "      <td>FUR-DAN-10002967</td>\n",
       "      <td>Furniture</td>\n",
       "      <td>Bookcases</td>\n",
       "      <td>Dania 3-Shelf Cabinet, Metal</td>\n",
       "      <td>42.273</td>\n",
       "      <td>1</td>\n",
       "      <td>0.7</td>\n",
       "      <td>-70.467</td>\n",
       "      <td>1.560</td>\n",
       "      <td>Medium</td>\n",
       "    </tr>\n",
       "    <tr>\n",
       "      <th>36331</th>\n",
       "      <td>2011-07-04</td>\n",
       "      <td>2011-07-06</td>\n",
       "      <td>First Class</td>\n",
       "      <td>Delfina Latchford</td>\n",
       "      <td>Consumer</td>\n",
       "      <td>La Romana</td>\n",
       "      <td>La Romana</td>\n",
       "      <td>Dominican Republic</td>\n",
       "      <td>NaN</td>\n",
       "      <td>LATAM</td>\n",
       "      <td>...</td>\n",
       "      <td>FUR-CH-10002882</td>\n",
       "      <td>Furniture</td>\n",
       "      <td>Chairs</td>\n",
       "      <td>Harbour Creations Bag Chairs, Adjustable</td>\n",
       "      <td>102.576</td>\n",
       "      <td>3</td>\n",
       "      <td>0.2</td>\n",
       "      <td>26.916</td>\n",
       "      <td>3.197</td>\n",
       "      <td>High</td>\n",
       "    </tr>\n",
       "    <tr>\n",
       "      <th>7485</th>\n",
       "      <td>2011-12-07</td>\n",
       "      <td>2011-12-13</td>\n",
       "      <td>Standard Class</td>\n",
       "      <td>Patrick O'Donnell</td>\n",
       "      <td>Consumer</td>\n",
       "      <td>Chittagong</td>\n",
       "      <td>Chittagong</td>\n",
       "      <td>Bangladesh</td>\n",
       "      <td>NaN</td>\n",
       "      <td>APAC</td>\n",
       "      <td>...</td>\n",
       "      <td>FUR-BO-10002682</td>\n",
       "      <td>Furniture</td>\n",
       "      <td>Bookcases</td>\n",
       "      <td>Safco Stackable Bookrack, Mobile</td>\n",
       "      <td>595.920</td>\n",
       "      <td>4</td>\n",
       "      <td>0.0</td>\n",
       "      <td>71.400</td>\n",
       "      <td>45.370</td>\n",
       "      <td>Low</td>\n",
       "    </tr>\n",
       "    <tr>\n",
       "      <th>...</th>\n",
       "      <td>...</td>\n",
       "      <td>...</td>\n",
       "      <td>...</td>\n",
       "      <td>...</td>\n",
       "      <td>...</td>\n",
       "      <td>...</td>\n",
       "      <td>...</td>\n",
       "      <td>...</td>\n",
       "      <td>...</td>\n",
       "      <td>...</td>\n",
       "      <td>...</td>\n",
       "      <td>...</td>\n",
       "      <td>...</td>\n",
       "      <td>...</td>\n",
       "      <td>...</td>\n",
       "      <td>...</td>\n",
       "      <td>...</td>\n",
       "      <td>...</td>\n",
       "      <td>...</td>\n",
       "      <td>...</td>\n",
       "      <td>...</td>\n",
       "    </tr>\n",
       "    <tr>\n",
       "      <th>5520</th>\n",
       "      <td>2013-11-28</td>\n",
       "      <td>2013-12-05</td>\n",
       "      <td>Standard Class</td>\n",
       "      <td>Jennifer Patt</td>\n",
       "      <td>Corporate</td>\n",
       "      <td>Cancún</td>\n",
       "      <td>Quintana Roo</td>\n",
       "      <td>Mexico</td>\n",
       "      <td>NaN</td>\n",
       "      <td>LATAM</td>\n",
       "      <td>...</td>\n",
       "      <td>FUR-BO-10000636</td>\n",
       "      <td>Furniture</td>\n",
       "      <td>Bookcases</td>\n",
       "      <td>Dania Floating Shelf Set, Metal</td>\n",
       "      <td>450.160</td>\n",
       "      <td>5</td>\n",
       "      <td>0.2</td>\n",
       "      <td>118.160</td>\n",
       "      <td>60.759</td>\n",
       "      <td>Low</td>\n",
       "    </tr>\n",
       "    <tr>\n",
       "      <th>35814</th>\n",
       "      <td>2013-04-25</td>\n",
       "      <td>2013-04-25</td>\n",
       "      <td>Same Day</td>\n",
       "      <td>Lela Donovan</td>\n",
       "      <td>Corporate</td>\n",
       "      <td>San Justo</td>\n",
       "      <td>Santa Fe</td>\n",
       "      <td>Argentina</td>\n",
       "      <td>NaN</td>\n",
       "      <td>LATAM</td>\n",
       "      <td>...</td>\n",
       "      <td>TEC-AC-10003548</td>\n",
       "      <td>Technology</td>\n",
       "      <td>Accessories</td>\n",
       "      <td>Logitech Flash Drive, Bluetooth</td>\n",
       "      <td>24.408</td>\n",
       "      <td>2</td>\n",
       "      <td>0.4</td>\n",
       "      <td>-4.912</td>\n",
       "      <td>3.348</td>\n",
       "      <td>High</td>\n",
       "    </tr>\n",
       "    <tr>\n",
       "      <th>20463</th>\n",
       "      <td>2013-12-12</td>\n",
       "      <td>2013-12-19</td>\n",
       "      <td>Standard Class</td>\n",
       "      <td>Karen Carlisle</td>\n",
       "      <td>Corporate</td>\n",
       "      <td>Schiedam</td>\n",
       "      <td>South Holland</td>\n",
       "      <td>Netherlands</td>\n",
       "      <td>NaN</td>\n",
       "      <td>EU</td>\n",
       "      <td>...</td>\n",
       "      <td>TEC-MA-10004452</td>\n",
       "      <td>Technology</td>\n",
       "      <td>Machines</td>\n",
       "      <td>Epson Receipt Printer, Durable</td>\n",
       "      <td>175.725</td>\n",
       "      <td>3</td>\n",
       "      <td>0.5</td>\n",
       "      <td>-151.155</td>\n",
       "      <td>12.020</td>\n",
       "      <td>Medium</td>\n",
       "    </tr>\n",
       "    <tr>\n",
       "      <th>18638</th>\n",
       "      <td>2014-08-13</td>\n",
       "      <td>2014-08-17</td>\n",
       "      <td>Standard Class</td>\n",
       "      <td>Julia Dunbar</td>\n",
       "      <td>Consumer</td>\n",
       "      <td>Johannesburg</td>\n",
       "      <td>Gauteng</td>\n",
       "      <td>South Africa</td>\n",
       "      <td>NaN</td>\n",
       "      <td>Africa</td>\n",
       "      <td>...</td>\n",
       "      <td>FUR-DAN-10001340</td>\n",
       "      <td>Furniture</td>\n",
       "      <td>Bookcases</td>\n",
       "      <td>Dania Corner Shelving, Mobile</td>\n",
       "      <td>249.180</td>\n",
       "      <td>2</td>\n",
       "      <td>0.0</td>\n",
       "      <td>72.240</td>\n",
       "      <td>14.100</td>\n",
       "      <td>Medium</td>\n",
       "    </tr>\n",
       "    <tr>\n",
       "      <th>35683</th>\n",
       "      <td>2011-09-27</td>\n",
       "      <td>2011-10-04</td>\n",
       "      <td>Standard Class</td>\n",
       "      <td>Ritsa Hightower</td>\n",
       "      <td>Consumer</td>\n",
       "      <td>Mixco</td>\n",
       "      <td>Guatemala</td>\n",
       "      <td>Guatemala</td>\n",
       "      <td>NaN</td>\n",
       "      <td>LATAM</td>\n",
       "      <td>...</td>\n",
       "      <td>FUR-CH-10000852</td>\n",
       "      <td>Furniture</td>\n",
       "      <td>Chairs</td>\n",
       "      <td>Novimex Chairmat, Set of Two</td>\n",
       "      <td>78.120</td>\n",
       "      <td>2</td>\n",
       "      <td>0.0</td>\n",
       "      <td>35.920</td>\n",
       "      <td>3.382</td>\n",
       "      <td>Medium</td>\n",
       "    </tr>\n",
       "  </tbody>\n",
       "</table>\n",
       "<p>46161 rows × 21 columns</p>\n",
       "</div>"
      ],
      "text/plain": [
       "      Order Date  Ship Date       Ship Mode      Customer Name    Segment  \\\n",
       "19288 2013-05-13 2013-05-18    Second Class        Meg Tillman   Consumer   \n",
       "46200 2013-11-13 2013-11-15     First Class       Anthony Witt   Consumer   \n",
       "43251 2014-12-15 2014-12-19  Standard Class       James Galang   Consumer   \n",
       "36331 2011-07-04 2011-07-06     First Class  Delfina Latchford   Consumer   \n",
       "7485  2011-12-07 2011-12-13  Standard Class  Patrick O'Donnell   Consumer   \n",
       "...          ...        ...             ...                ...        ...   \n",
       "5520  2013-11-28 2013-12-05  Standard Class      Jennifer Patt  Corporate   \n",
       "35814 2013-04-25 2013-04-25        Same Day       Lela Donovan  Corporate   \n",
       "20463 2013-12-12 2013-12-19  Standard Class     Karen Carlisle  Corporate   \n",
       "18638 2014-08-13 2014-08-17  Standard Class       Julia Dunbar   Consumer   \n",
       "35683 2011-09-27 2011-10-04  Standard Class    Ritsa Hightower   Consumer   \n",
       "\n",
       "               City          State             Country  Postal Code  Market  \\\n",
       "19288         Lagos          Lagos             Nigeria          NaN  Africa   \n",
       "46200         Izmir          Izmir              Turkey          NaN    EMEA   \n",
       "43251        Ibadan            Oyo             Nigeria          NaN  Africa   \n",
       "36331     La Romana      La Romana  Dominican Republic          NaN   LATAM   \n",
       "7485     Chittagong     Chittagong          Bangladesh          NaN    APAC   \n",
       "...             ...            ...                 ...          ...     ...   \n",
       "5520         Cancún   Quintana Roo              Mexico          NaN   LATAM   \n",
       "35814     San Justo       Santa Fe           Argentina          NaN   LATAM   \n",
       "20463      Schiedam  South Holland         Netherlands          NaN      EU   \n",
       "18638  Johannesburg        Gauteng        South Africa          NaN  Africa   \n",
       "35683         Mixco      Guatemala           Guatemala          NaN   LATAM   \n",
       "\n",
       "       ...        Product ID         Category Sub-Category  \\\n",
       "19288  ...  FUR-SAF-10003469        Furniture    Bookcases   \n",
       "46200  ...  OFF-STO-10004495  Office Supplies    Fasteners   \n",
       "43251  ...  FUR-DAN-10002967        Furniture    Bookcases   \n",
       "36331  ...   FUR-CH-10002882        Furniture       Chairs   \n",
       "7485   ...   FUR-BO-10002682        Furniture    Bookcases   \n",
       "...    ...               ...              ...          ...   \n",
       "5520   ...   FUR-BO-10000636        Furniture    Bookcases   \n",
       "35814  ...   TEC-AC-10003548       Technology  Accessories   \n",
       "20463  ...   TEC-MA-10004452       Technology     Machines   \n",
       "18638  ...  FUR-DAN-10001340        Furniture    Bookcases   \n",
       "35683  ...   FUR-CH-10000852        Furniture       Chairs   \n",
       "\n",
       "                                   Product Name    Sales  Quantity  Discount  \\\n",
       "19288       Safco Classic Bookcase, Traditional  262.890         2       0.7   \n",
       "46200          Stockwell Thumb Tacks, Bulk Pack    5.412         1       0.6   \n",
       "43251              Dania 3-Shelf Cabinet, Metal   42.273         1       0.7   \n",
       "36331  Harbour Creations Bag Chairs, Adjustable  102.576         3       0.2   \n",
       "7485           Safco Stackable Bookrack, Mobile  595.920         4       0.0   \n",
       "...                                         ...      ...       ...       ...   \n",
       "5520            Dania Floating Shelf Set, Metal  450.160         5       0.2   \n",
       "35814           Logitech Flash Drive, Bluetooth   24.408         2       0.4   \n",
       "20463            Epson Receipt Printer, Durable  175.725         3       0.5   \n",
       "18638             Dania Corner Shelving, Mobile  249.180         2       0.0   \n",
       "35683              Novimex Chairmat, Set of Two   78.120         2       0.0   \n",
       "\n",
       "        Profit  Shipping Cost  Order Priority  \n",
       "19288 -385.590         13.280          Medium  \n",
       "46200   -3.948          1.030          Medium  \n",
       "43251  -70.467          1.560          Medium  \n",
       "36331   26.916          3.197            High  \n",
       "7485    71.400         45.370             Low  \n",
       "...        ...            ...             ...  \n",
       "5520   118.160         60.759             Low  \n",
       "35814   -4.912          3.348            High  \n",
       "20463 -151.155         12.020          Medium  \n",
       "18638   72.240         14.100          Medium  \n",
       "35683   35.920          3.382          Medium  \n",
       "\n",
       "[46161 rows x 21 columns]"
      ]
     },
     "execution_count": 13,
     "metadata": {},
     "output_type": "execute_result"
    }
   ],
   "source": [
    "train "
   ]
  },
  {
   "cell_type": "code",
   "execution_count": 14,
   "id": "93d1ea18",
   "metadata": {},
   "outputs": [
    {
     "data": {
      "text/html": [
       "<div>\n",
       "<style scoped>\n",
       "    .dataframe tbody tr th:only-of-type {\n",
       "        vertical-align: middle;\n",
       "    }\n",
       "\n",
       "    .dataframe tbody tr th {\n",
       "        vertical-align: top;\n",
       "    }\n",
       "\n",
       "    .dataframe thead th {\n",
       "        text-align: right;\n",
       "    }\n",
       "</style>\n",
       "<table border=\"1\" class=\"dataframe\">\n",
       "  <thead>\n",
       "    <tr style=\"text-align: right;\">\n",
       "      <th></th>\n",
       "      <th>Order Date</th>\n",
       "      <th>Ship Date</th>\n",
       "      <th>Ship Mode</th>\n",
       "      <th>Customer Name</th>\n",
       "      <th>Segment</th>\n",
       "      <th>City</th>\n",
       "      <th>State</th>\n",
       "      <th>Country</th>\n",
       "      <th>Postal Code</th>\n",
       "      <th>Market</th>\n",
       "      <th>...</th>\n",
       "      <th>Product ID</th>\n",
       "      <th>Category</th>\n",
       "      <th>Sub-Category</th>\n",
       "      <th>Product Name</th>\n",
       "      <th>Sales</th>\n",
       "      <th>Quantity</th>\n",
       "      <th>Discount</th>\n",
       "      <th>Profit</th>\n",
       "      <th>Shipping Cost</th>\n",
       "      <th>Order Priority</th>\n",
       "    </tr>\n",
       "  </thead>\n",
       "  <tbody>\n",
       "    <tr>\n",
       "      <th>37638</th>\n",
       "      <td>2012-06-12</td>\n",
       "      <td>2012-06-16</td>\n",
       "      <td>Standard Class</td>\n",
       "      <td>Vivek Grady</td>\n",
       "      <td>Corporate</td>\n",
       "      <td>Baghdad</td>\n",
       "      <td>Baghdad</td>\n",
       "      <td>Iraq</td>\n",
       "      <td>NaN</td>\n",
       "      <td>EMEA</td>\n",
       "      <td>...</td>\n",
       "      <td>OFF-SAN-10002839</td>\n",
       "      <td>Office Supplies</td>\n",
       "      <td>Art</td>\n",
       "      <td>Sanford Canvas, Fluorescent</td>\n",
       "      <td>103.56000</td>\n",
       "      <td>2</td>\n",
       "      <td>0.000</td>\n",
       "      <td>38.28000</td>\n",
       "      <td>2.830</td>\n",
       "      <td>Medium</td>\n",
       "    </tr>\n",
       "    <tr>\n",
       "      <th>8852</th>\n",
       "      <td>2012-04-18</td>\n",
       "      <td>2012-04-20</td>\n",
       "      <td>First Class</td>\n",
       "      <td>Nathan Cano</td>\n",
       "      <td>Consumer</td>\n",
       "      <td>Santa Maria</td>\n",
       "      <td>California</td>\n",
       "      <td>United States</td>\n",
       "      <td>93454.0</td>\n",
       "      <td>US</td>\n",
       "      <td>...</td>\n",
       "      <td>OFF-ST-10000532</td>\n",
       "      <td>Office Supplies</td>\n",
       "      <td>Storage</td>\n",
       "      <td>Advantus Rolling Drawer Organizers</td>\n",
       "      <td>115.44000</td>\n",
       "      <td>3</td>\n",
       "      <td>0.000</td>\n",
       "      <td>30.01440</td>\n",
       "      <td>37.950</td>\n",
       "      <td>High</td>\n",
       "    </tr>\n",
       "    <tr>\n",
       "      <th>18835</th>\n",
       "      <td>2014-12-12</td>\n",
       "      <td>2014-12-15</td>\n",
       "      <td>Second Class</td>\n",
       "      <td>Jason Gross</td>\n",
       "      <td>Corporate</td>\n",
       "      <td>Newcastle</td>\n",
       "      <td>New South Wales</td>\n",
       "      <td>Australia</td>\n",
       "      <td>NaN</td>\n",
       "      <td>APAC</td>\n",
       "      <td>...</td>\n",
       "      <td>FUR-FU-10004241</td>\n",
       "      <td>Furniture</td>\n",
       "      <td>Furnishings</td>\n",
       "      <td>Deflect-O Light Bulb, Black</td>\n",
       "      <td>102.54600</td>\n",
       "      <td>6</td>\n",
       "      <td>0.100</td>\n",
       "      <td>12.36600</td>\n",
       "      <td>13.840</td>\n",
       "      <td>High</td>\n",
       "    </tr>\n",
       "    <tr>\n",
       "      <th>20230</th>\n",
       "      <td>2014-02-28</td>\n",
       "      <td>2014-03-04</td>\n",
       "      <td>Standard Class</td>\n",
       "      <td>Cathy Hwang</td>\n",
       "      <td>Home Office</td>\n",
       "      <td>Prague</td>\n",
       "      <td>Prague</td>\n",
       "      <td>Czech Republic</td>\n",
       "      <td>NaN</td>\n",
       "      <td>EMEA</td>\n",
       "      <td>...</td>\n",
       "      <td>OFF-ROG-10001340</td>\n",
       "      <td>Office Supplies</td>\n",
       "      <td>Storage</td>\n",
       "      <td>Rogers File Cart, Industrial</td>\n",
       "      <td>141.60000</td>\n",
       "      <td>1</td>\n",
       "      <td>0.000</td>\n",
       "      <td>24.06000</td>\n",
       "      <td>12.260</td>\n",
       "      <td>Medium</td>\n",
       "    </tr>\n",
       "    <tr>\n",
       "      <th>24090</th>\n",
       "      <td>2013-06-28</td>\n",
       "      <td>2013-07-03</td>\n",
       "      <td>Standard Class</td>\n",
       "      <td>Julie Prescott</td>\n",
       "      <td>Home Office</td>\n",
       "      <td>San Pedro Sula</td>\n",
       "      <td>Cortés</td>\n",
       "      <td>Honduras</td>\n",
       "      <td>NaN</td>\n",
       "      <td>LATAM</td>\n",
       "      <td>...</td>\n",
       "      <td>FUR-CH-10003514</td>\n",
       "      <td>Furniture</td>\n",
       "      <td>Chairs</td>\n",
       "      <td>Harbour Creations Rocking Chair, Set of Two</td>\n",
       "      <td>119.47200</td>\n",
       "      <td>2</td>\n",
       "      <td>0.400</td>\n",
       "      <td>-35.84800</td>\n",
       "      <td>8.836</td>\n",
       "      <td>Medium</td>\n",
       "    </tr>\n",
       "    <tr>\n",
       "      <th>...</th>\n",
       "      <td>...</td>\n",
       "      <td>...</td>\n",
       "      <td>...</td>\n",
       "      <td>...</td>\n",
       "      <td>...</td>\n",
       "      <td>...</td>\n",
       "      <td>...</td>\n",
       "      <td>...</td>\n",
       "      <td>...</td>\n",
       "      <td>...</td>\n",
       "      <td>...</td>\n",
       "      <td>...</td>\n",
       "      <td>...</td>\n",
       "      <td>...</td>\n",
       "      <td>...</td>\n",
       "      <td>...</td>\n",
       "      <td>...</td>\n",
       "      <td>...</td>\n",
       "      <td>...</td>\n",
       "      <td>...</td>\n",
       "      <td>...</td>\n",
       "    </tr>\n",
       "    <tr>\n",
       "      <th>7259</th>\n",
       "      <td>2013-10-16</td>\n",
       "      <td>2013-10-21</td>\n",
       "      <td>Second Class</td>\n",
       "      <td>Harry Greene</td>\n",
       "      <td>Consumer</td>\n",
       "      <td>San Francisco de Macorís</td>\n",
       "      <td>Duarte</td>\n",
       "      <td>Dominican Republic</td>\n",
       "      <td>NaN</td>\n",
       "      <td>LATAM</td>\n",
       "      <td>...</td>\n",
       "      <td>TEC-CO-10001309</td>\n",
       "      <td>Technology</td>\n",
       "      <td>Copiers</td>\n",
       "      <td>Hewlett Wireless Fax, Laser</td>\n",
       "      <td>809.04432</td>\n",
       "      <td>4</td>\n",
       "      <td>0.202</td>\n",
       "      <td>-174.39568</td>\n",
       "      <td>47.048</td>\n",
       "      <td>Medium</td>\n",
       "    </tr>\n",
       "    <tr>\n",
       "      <th>8577</th>\n",
       "      <td>2013-06-17</td>\n",
       "      <td>2013-06-21</td>\n",
       "      <td>Standard Class</td>\n",
       "      <td>Bryan Mills</td>\n",
       "      <td>Consumer</td>\n",
       "      <td>Vienna</td>\n",
       "      <td>Vienna</td>\n",
       "      <td>Austria</td>\n",
       "      <td>NaN</td>\n",
       "      <td>EU</td>\n",
       "      <td>...</td>\n",
       "      <td>OFF-ST-10002437</td>\n",
       "      <td>Office Supplies</td>\n",
       "      <td>Storage</td>\n",
       "      <td>Eldon Trays, Blue</td>\n",
       "      <td>239.85000</td>\n",
       "      <td>5</td>\n",
       "      <td>0.000</td>\n",
       "      <td>43.05000</td>\n",
       "      <td>39.290</td>\n",
       "      <td>High</td>\n",
       "    </tr>\n",
       "    <tr>\n",
       "      <th>1749</th>\n",
       "      <td>2012-04-16</td>\n",
       "      <td>2012-04-20</td>\n",
       "      <td>Standard Class</td>\n",
       "      <td>Sarah Brown</td>\n",
       "      <td>Consumer</td>\n",
       "      <td>Evanston</td>\n",
       "      <td>Illinois</td>\n",
       "      <td>United States</td>\n",
       "      <td>60201.0</td>\n",
       "      <td>US</td>\n",
       "      <td>...</td>\n",
       "      <td>TEC-CO-10001766</td>\n",
       "      <td>Technology</td>\n",
       "      <td>Copiers</td>\n",
       "      <td>Canon PC940 Copier</td>\n",
       "      <td>1439.96800</td>\n",
       "      <td>4</td>\n",
       "      <td>0.200</td>\n",
       "      <td>485.98920</td>\n",
       "      <td>146.320</td>\n",
       "      <td>High</td>\n",
       "    </tr>\n",
       "    <tr>\n",
       "      <th>30114</th>\n",
       "      <td>2012-08-31</td>\n",
       "      <td>2012-09-05</td>\n",
       "      <td>Standard Class</td>\n",
       "      <td>Tom Ashbrook</td>\n",
       "      <td>Home Office</td>\n",
       "      <td>Bishkek</td>\n",
       "      <td>Bishkek</td>\n",
       "      <td>Kyrgyzstan</td>\n",
       "      <td>NaN</td>\n",
       "      <td>EMEA</td>\n",
       "      <td>...</td>\n",
       "      <td>OFF-ROG-10004949</td>\n",
       "      <td>Office Supplies</td>\n",
       "      <td>Storage</td>\n",
       "      <td>Rogers Shelving, Industrial</td>\n",
       "      <td>62.61000</td>\n",
       "      <td>1</td>\n",
       "      <td>0.000</td>\n",
       "      <td>18.78000</td>\n",
       "      <td>5.450</td>\n",
       "      <td>Medium</td>\n",
       "    </tr>\n",
       "    <tr>\n",
       "      <th>48958</th>\n",
       "      <td>2014-06-26</td>\n",
       "      <td>2014-07-03</td>\n",
       "      <td>Standard Class</td>\n",
       "      <td>Max Ludwig</td>\n",
       "      <td>Home Office</td>\n",
       "      <td>Springfield</td>\n",
       "      <td>Oregon</td>\n",
       "      <td>United States</td>\n",
       "      <td>97477.0</td>\n",
       "      <td>US</td>\n",
       "      <td>...</td>\n",
       "      <td>OFF-FA-10004395</td>\n",
       "      <td>Office Supplies</td>\n",
       "      <td>Fasteners</td>\n",
       "      <td>Plymouth Boxed Rubber Bands by Plymouth</td>\n",
       "      <td>11.30400</td>\n",
       "      <td>3</td>\n",
       "      <td>0.200</td>\n",
       "      <td>-2.11950</td>\n",
       "      <td>0.560</td>\n",
       "      <td>Medium</td>\n",
       "    </tr>\n",
       "  </tbody>\n",
       "</table>\n",
       "<p>5129 rows × 21 columns</p>\n",
       "</div>"
      ],
      "text/plain": [
       "      Order Date  Ship Date       Ship Mode   Customer Name      Segment  \\\n",
       "37638 2012-06-12 2012-06-16  Standard Class     Vivek Grady    Corporate   \n",
       "8852  2012-04-18 2012-04-20     First Class     Nathan Cano     Consumer   \n",
       "18835 2014-12-12 2014-12-15    Second Class     Jason Gross    Corporate   \n",
       "20230 2014-02-28 2014-03-04  Standard Class     Cathy Hwang  Home Office   \n",
       "24090 2013-06-28 2013-07-03  Standard Class  Julie Prescott  Home Office   \n",
       "...          ...        ...             ...             ...          ...   \n",
       "7259  2013-10-16 2013-10-21    Second Class    Harry Greene     Consumer   \n",
       "8577  2013-06-17 2013-06-21  Standard Class     Bryan Mills     Consumer   \n",
       "1749  2012-04-16 2012-04-20  Standard Class     Sarah Brown     Consumer   \n",
       "30114 2012-08-31 2012-09-05  Standard Class    Tom Ashbrook  Home Office   \n",
       "48958 2014-06-26 2014-07-03  Standard Class      Max Ludwig  Home Office   \n",
       "\n",
       "                           City            State             Country  \\\n",
       "37638                   Baghdad          Baghdad                Iraq   \n",
       "8852                Santa Maria       California       United States   \n",
       "18835                 Newcastle  New South Wales           Australia   \n",
       "20230                    Prague           Prague      Czech Republic   \n",
       "24090            San Pedro Sula           Cortés            Honduras   \n",
       "...                         ...              ...                 ...   \n",
       "7259   San Francisco de Macorís           Duarte  Dominican Republic   \n",
       "8577                     Vienna           Vienna             Austria   \n",
       "1749                   Evanston         Illinois       United States   \n",
       "30114                   Bishkek          Bishkek          Kyrgyzstan   \n",
       "48958               Springfield           Oregon       United States   \n",
       "\n",
       "       Postal Code Market  ...        Product ID         Category  \\\n",
       "37638          NaN   EMEA  ...  OFF-SAN-10002839  Office Supplies   \n",
       "8852       93454.0     US  ...   OFF-ST-10000532  Office Supplies   \n",
       "18835          NaN   APAC  ...   FUR-FU-10004241        Furniture   \n",
       "20230          NaN   EMEA  ...  OFF-ROG-10001340  Office Supplies   \n",
       "24090          NaN  LATAM  ...   FUR-CH-10003514        Furniture   \n",
       "...            ...    ...  ...               ...              ...   \n",
       "7259           NaN  LATAM  ...   TEC-CO-10001309       Technology   \n",
       "8577           NaN     EU  ...   OFF-ST-10002437  Office Supplies   \n",
       "1749       60201.0     US  ...   TEC-CO-10001766       Technology   \n",
       "30114          NaN   EMEA  ...  OFF-ROG-10004949  Office Supplies   \n",
       "48958      97477.0     US  ...   OFF-FA-10004395  Office Supplies   \n",
       "\n",
       "      Sub-Category                                 Product Name       Sales  \\\n",
       "37638          Art                  Sanford Canvas, Fluorescent   103.56000   \n",
       "8852       Storage           Advantus Rolling Drawer Organizers   115.44000   \n",
       "18835  Furnishings                  Deflect-O Light Bulb, Black   102.54600   \n",
       "20230      Storage                 Rogers File Cart, Industrial   141.60000   \n",
       "24090       Chairs  Harbour Creations Rocking Chair, Set of Two   119.47200   \n",
       "...            ...                                          ...         ...   \n",
       "7259       Copiers                  Hewlett Wireless Fax, Laser   809.04432   \n",
       "8577       Storage                            Eldon Trays, Blue   239.85000   \n",
       "1749       Copiers                           Canon PC940 Copier  1439.96800   \n",
       "30114      Storage                  Rogers Shelving, Industrial    62.61000   \n",
       "48958    Fasteners      Plymouth Boxed Rubber Bands by Plymouth    11.30400   \n",
       "\n",
       "       Quantity  Discount     Profit  Shipping Cost  Order Priority  \n",
       "37638         2     0.000   38.28000          2.830          Medium  \n",
       "8852          3     0.000   30.01440         37.950            High  \n",
       "18835         6     0.100   12.36600         13.840            High  \n",
       "20230         1     0.000   24.06000         12.260          Medium  \n",
       "24090         2     0.400  -35.84800          8.836          Medium  \n",
       "...         ...       ...        ...            ...             ...  \n",
       "7259          4     0.202 -174.39568         47.048          Medium  \n",
       "8577          5     0.000   43.05000         39.290            High  \n",
       "1749          4     0.200  485.98920        146.320            High  \n",
       "30114         1     0.000   18.78000          5.450          Medium  \n",
       "48958         3     0.200   -2.11950          0.560          Medium  \n",
       "\n",
       "[5129 rows x 21 columns]"
      ]
     },
     "execution_count": 14,
     "metadata": {},
     "output_type": "execute_result"
    }
   ],
   "source": [
    "test"
   ]
  },
  {
   "cell_type": "markdown",
   "id": "12f8cece",
   "metadata": {},
   "source": [
    "### EDA"
   ]
  },
  {
   "cell_type": "code",
   "execution_count": 15,
   "id": "3fa6f925",
   "metadata": {},
   "outputs": [
    {
     "name": "stdout",
     "output_type": "stream",
     "text": [
      "<class 'pandas.core.frame.DataFrame'>\n",
      "Index: 46161 entries, 19288 to 35683\n",
      "Data columns (total 21 columns):\n",
      " #   Column          Non-Null Count  Dtype         \n",
      "---  ------          --------------  -----         \n",
      " 0   Order Date      46161 non-null  datetime64[ns]\n",
      " 1   Ship Date       46161 non-null  datetime64[ns]\n",
      " 2   Ship Mode       46161 non-null  object        \n",
      " 3   Customer Name   46161 non-null  object        \n",
      " 4   Segment         46161 non-null  object        \n",
      " 5   City            46161 non-null  object        \n",
      " 6   State           46161 non-null  object        \n",
      " 7   Country         46161 non-null  object        \n",
      " 8   Postal Code     8966 non-null   float64       \n",
      " 9   Market          46161 non-null  object        \n",
      " 10  Region          46161 non-null  object        \n",
      " 11  Product ID      46161 non-null  object        \n",
      " 12  Category        46161 non-null  object        \n",
      " 13  Sub-Category    46161 non-null  object        \n",
      " 14  Product Name    46161 non-null  object        \n",
      " 15  Sales           46161 non-null  float64       \n",
      " 16  Quantity        46161 non-null  int64         \n",
      " 17  Discount        46161 non-null  float64       \n",
      " 18  Profit          46161 non-null  float64       \n",
      " 19  Shipping Cost   46161 non-null  float64       \n",
      " 20  Order Priority  46161 non-null  object        \n",
      "dtypes: datetime64[ns](2), float64(5), int64(1), object(13)\n",
      "memory usage: 7.7+ MB\n"
     ]
    }
   ],
   "source": [
    "train.info()"
   ]
  },
  {
   "cell_type": "code",
   "execution_count": 16,
   "id": "1dae5665",
   "metadata": {},
   "outputs": [],
   "source": [
    "#order date to check no of orders over time\n",
    "#add column month and day to df\n",
    "#remebr to do same for test df\n",
    "train['month']=train['Order Date'].dt.month #extract month\n",
    "train['day']=train['Order Date'].dt.day  #extract days\n"
   ]
  },
  {
   "cell_type": "code",
   "execution_count": 17,
   "id": "f5439213",
   "metadata": {
    "scrolled": true
   },
   "outputs": [
    {
     "data": {
      "text/html": [
       "<div>\n",
       "<style scoped>\n",
       "    .dataframe tbody tr th:only-of-type {\n",
       "        vertical-align: middle;\n",
       "    }\n",
       "\n",
       "    .dataframe tbody tr th {\n",
       "        vertical-align: top;\n",
       "    }\n",
       "\n",
       "    .dataframe thead th {\n",
       "        text-align: right;\n",
       "    }\n",
       "</style>\n",
       "<table border=\"1\" class=\"dataframe\">\n",
       "  <thead>\n",
       "    <tr style=\"text-align: right;\">\n",
       "      <th></th>\n",
       "      <th>month</th>\n",
       "      <th>day</th>\n",
       "    </tr>\n",
       "  </thead>\n",
       "  <tbody>\n",
       "    <tr>\n",
       "      <th>19288</th>\n",
       "      <td>5</td>\n",
       "      <td>13</td>\n",
       "    </tr>\n",
       "    <tr>\n",
       "      <th>46200</th>\n",
       "      <td>11</td>\n",
       "      <td>13</td>\n",
       "    </tr>\n",
       "    <tr>\n",
       "      <th>43251</th>\n",
       "      <td>12</td>\n",
       "      <td>15</td>\n",
       "    </tr>\n",
       "    <tr>\n",
       "      <th>36331</th>\n",
       "      <td>7</td>\n",
       "      <td>4</td>\n",
       "    </tr>\n",
       "    <tr>\n",
       "      <th>7485</th>\n",
       "      <td>12</td>\n",
       "      <td>7</td>\n",
       "    </tr>\n",
       "    <tr>\n",
       "      <th>...</th>\n",
       "      <td>...</td>\n",
       "      <td>...</td>\n",
       "    </tr>\n",
       "    <tr>\n",
       "      <th>5520</th>\n",
       "      <td>11</td>\n",
       "      <td>28</td>\n",
       "    </tr>\n",
       "    <tr>\n",
       "      <th>35814</th>\n",
       "      <td>4</td>\n",
       "      <td>25</td>\n",
       "    </tr>\n",
       "    <tr>\n",
       "      <th>20463</th>\n",
       "      <td>12</td>\n",
       "      <td>12</td>\n",
       "    </tr>\n",
       "    <tr>\n",
       "      <th>18638</th>\n",
       "      <td>8</td>\n",
       "      <td>13</td>\n",
       "    </tr>\n",
       "    <tr>\n",
       "      <th>35683</th>\n",
       "      <td>9</td>\n",
       "      <td>27</td>\n",
       "    </tr>\n",
       "  </tbody>\n",
       "</table>\n",
       "<p>46161 rows × 2 columns</p>\n",
       "</div>"
      ],
      "text/plain": [
       "       month  day\n",
       "19288      5   13\n",
       "46200     11   13\n",
       "43251     12   15\n",
       "36331      7    4\n",
       "7485      12    7\n",
       "...      ...  ...\n",
       "5520      11   28\n",
       "35814      4   25\n",
       "20463     12   12\n",
       "18638      8   13\n",
       "35683      9   27\n",
       "\n",
       "[46161 rows x 2 columns]"
      ]
     },
     "execution_count": 17,
     "metadata": {},
     "output_type": "execute_result"
    }
   ],
   "source": [
    "train[['month','day']]"
   ]
  },
  {
   "cell_type": "code",
   "execution_count": 18,
   "id": "94b1f9ac",
   "metadata": {},
   "outputs": [],
   "source": [
    "#group our values across each day and month to know the count of orders per month and day\n",
    "\n",
    "month_counts=train.groupby('month').count()['Order Date']"
   ]
  },
  {
   "cell_type": "code",
   "execution_count": 19,
   "id": "1d8ca7c8",
   "metadata": {},
   "outputs": [
    {
     "data": {
      "text/plain": [
       "month\n",
       "1     2332\n",
       "2     1936\n",
       "3     2759\n",
       "4     2742\n",
       "5     3357\n",
       "6     4807\n",
       "7     2852\n",
       "8     4588\n",
       "9     5368\n",
       "10    4019\n",
       "11    5743\n",
       "12    5658\n",
       "Name: Order Date, dtype: int64"
      ]
     },
     "execution_count": 19,
     "metadata": {},
     "output_type": "execute_result"
    }
   ],
   "source": [
    "month_counts"
   ]
  },
  {
   "cell_type": "code",
   "execution_count": 20,
   "id": "b7c726e1",
   "metadata": {},
   "outputs": [
    {
     "data": {
      "image/png": "[encoded data removed]",
      "text/plain": [
       "<Figure size 640x480 with 1 Axes>"
      ]
     },
     "metadata": {},
     "output_type": "display_data"
    }
   ],
   "source": [
    "plt.plot(month_counts.index,month_counts.values)\n",
    "plt.title('#-Orders per Month',fontsize=15)\n",
    "plt.xlabel('Month')\n",
    "plt.ylabel('#-Orders')\n",
    "plt.show()"
   ]
  },
  {
   "cell_type": "code",
   "execution_count": 21,
   "id": "3903261b",
   "metadata": {},
   "outputs": [],
   "source": [
    "day_counts=train.groupby('day').count()['Order Date']"
   ]
  },
  {
   "cell_type": "code",
   "execution_count": 22,
   "id": "efd1d01d",
   "metadata": {},
   "outputs": [
    {
     "data": {
      "text/plain": [
       "day\n",
       "1     1360\n",
       "2     1454\n",
       "3     1624\n",
       "4     1515\n",
       "5     1506\n",
       "6     1501\n",
       "7     1520\n",
       "8     1406\n",
       "9     1505\n",
       "10    1503\n",
       "11    1609\n",
       "12    1584\n",
       "13    1582\n",
       "14    1472\n",
       "15    1552\n",
       "16    1398\n",
       "17    1476\n",
       "18    1664\n",
       "19    1514\n",
       "20    1588\n",
       "21    1537\n",
       "22    1466\n",
       "23    1440\n",
       "24    1528\n",
       "25    1617\n",
       "26    1606\n",
       "27    1597\n",
       "28    1530\n",
       "29    1325\n",
       "30    1294\n",
       "31     888\n",
       "Name: Order Date, dtype: int64"
      ]
     },
     "execution_count": 22,
     "metadata": {},
     "output_type": "execute_result"
    }
   ],
   "source": [
    "day_counts"
   ]
  },
  {
   "cell_type": "code",
   "execution_count": 23,
   "id": "eecf02e2",
   "metadata": {},
   "outputs": [
    {
     "data": {
      "image/png": "[encoded data removed]",
      "text/plain": [
       "<Figure size 640x480 with 1 Axes>"
      ]
     },
     "metadata": {},
     "output_type": "display_data"
    }
   ],
   "source": [
    "plt.plot(day_counts.index,day_counts.values)\n",
    "plt.title('#-Orders per Day',fontsize=15)\n",
    "plt.xlabel('Day')\n",
    "plt.ylabel('#-Orders')\n",
    "plt.show()"
   ]
  },
  {
   "cell_type": "code",
   "execution_count": 24,
   "id": "643a2431",
   "metadata": {},
   "outputs": [],
   "source": [
    "#not many months have 31 days reason for drop\n",
    "\n",
    "train['year']=train['Order Date'].dt.year"
   ]
  },
  {
   "cell_type": "code",
   "execution_count": 25,
   "id": "007c2ce7",
   "metadata": {},
   "outputs": [],
   "source": [
    "year_counts=train.groupby('year').count()['Order Date'] #count of orders for each year"
   ]
  },
  {
   "cell_type": "code",
   "execution_count": 26,
   "id": "b105a029",
   "metadata": {},
   "outputs": [
    {
     "data": {
      "text/plain": [
       "year\n",
       "2011     8059\n",
       "2012     9916\n",
       "2013    12445\n",
       "2014    15741\n",
       "Name: Order Date, dtype: int64"
      ]
     },
     "execution_count": 26,
     "metadata": {},
     "output_type": "execute_result"
    }
   ],
   "source": [
    "year_counts"
   ]
  },
  {
   "cell_type": "code",
   "execution_count": 27,
   "id": "eb2b8260",
   "metadata": {},
   "outputs": [
    {
     "data": {
      "image/png": "[encoded data removed]",
      "text/plain": [
       "<Figure size 800x500 with 1 Axes>"
      ]
     },
     "metadata": {},
     "output_type": "display_data"
    }
   ],
   "source": [
    "plt.figure(figsize=(8,5))\n",
    "plt.plot(year_counts.index,year_counts.values)\n",
    "plt.title('#-Orders per Year',fontsize=15)\n",
    "plt.xlabel('Year')\n",
    "plt.ylabel('#-Orders')\n",
    "plt.show()"
   ]
  },
  {
   "cell_type": "code",
   "execution_count": 28,
   "id": "a47d765b",
   "metadata": {},
   "outputs": [
    {
     "data": {
      "text/plain": [
       "Country\n",
       "United States         8966\n",
       "Australia             2550\n",
       "France                2528\n",
       "Mexico                2358\n",
       "Germany               1865\n",
       "China                 1682\n",
       "United Kingdom        1487\n",
       "Brazil                1446\n",
       "India                 1388\n",
       "Turkey                1249\n",
       "Indonesia             1242\n",
       "Italy                  995\n",
       "Nigeria                825\n",
       "Spain                  783\n",
       "Dominican Republic     667\n",
       "Cuba                   660\n",
       "El Salvador            653\n",
       "Honduras               650\n",
       "Philippines            602\n",
       "New Zealand            564\n",
       "Name: count, dtype: int64"
      ]
     },
     "execution_count": 28,
     "metadata": {},
     "output_type": "execute_result"
    }
   ],
   "source": [
    "#country\n",
    "#too many countries,so we'll check best performing countries\n",
    "\n",
    "train.Country.value_counts().iloc[:20]"
   ]
  },
  {
   "cell_type": "code",
   "execution_count": 29,
   "id": "72661472",
   "metadata": {},
   "outputs": [
    {
     "data": {
      "text/plain": [
       "Text(0.5, 1.0, 'The #-Order per Country')"
      ]
     },
     "execution_count": 29,
     "metadata": {},
     "output_type": "execute_result"
    },
    {
     "data": {
      "image/png": "[encoded data removed]",
      "text/plain": [
       "<Figure size 1000x800 with 1 Axes>"
      ]
     },
     "metadata": {},
     "output_type": "display_data"
    }
   ],
   "source": [
    "plt.figure(figsize=(10,8))\n",
    "train.Country.value_counts().iloc[:20].plot(kind='barh')\n",
    "plt.title('The #-Order per Country')"
   ]
  },
  {
   "cell_type": "code",
   "execution_count": 30,
   "id": "a5bde7cf",
   "metadata": {},
   "outputs": [
    {
     "data": {
      "text/plain": [
       "19288          Furniture\n",
       "46200    Office Supplies\n",
       "43251          Furniture\n",
       "36331          Furniture\n",
       "7485           Furniture\n",
       "              ...       \n",
       "5520           Furniture\n",
       "35814         Technology\n",
       "20463         Technology\n",
       "18638          Furniture\n",
       "35683          Furniture\n",
       "Name: Category, Length: 46161, dtype: object"
      ]
     },
     "execution_count": 30,
     "metadata": {},
     "output_type": "execute_result"
    }
   ],
   "source": [
    "#categories: % of orders per category\n",
    "\n",
    "train.Category"
   ]
  },
  {
   "cell_type": "code",
   "execution_count": 31,
   "id": "bc633e19",
   "metadata": {},
   "outputs": [
    {
     "data": {
      "image/png": "[encoded data removed]",
      "text/plain": [
       "<Figure size 800x500 with 1 Axes>"
      ]
     },
     "metadata": {},
     "output_type": "display_data"
    }
   ],
   "source": [
    "plt.figure(figsize=(8,5))\n",
    "train.Category.value_counts().plot(kind='pie',autopct='%.2f')\n",
    "plt.show()"
   ]
  },
  {
   "cell_type": "markdown",
   "id": "6b873d39",
   "metadata": {},
   "source": [
    "### Clean"
   ]
  },
  {
   "cell_type": "code",
   "execution_count": 32,
   "id": "f0b80bd2",
   "metadata": {},
   "outputs": [
    {
     "data": {
      "text/plain": [
       "Index(['Order Date', 'Ship Date', 'Ship Mode', 'Customer Name', 'Segment',\n",
       "       'City', 'State', 'Country', 'Postal Code', 'Market', 'Region',\n",
       "       'Product ID', 'Category', 'Sub-Category', 'Product Name', 'Sales',\n",
       "       'Quantity', 'Discount', 'Profit', 'Shipping Cost', 'Order Priority',\n",
       "       'month', 'day', 'year'],\n",
       "      dtype='object')"
      ]
     },
     "execution_count": 32,
     "metadata": {},
     "output_type": "execute_result"
    }
   ],
   "source": [
    "train.columns"
   ]
  },
  {
   "cell_type": "code",
   "execution_count": 33,
   "id": "f5a73490",
   "metadata": {},
   "outputs": [
    {
     "data": {
      "text/plain": [
       "Order Date            0\n",
       "Ship Date             0\n",
       "Ship Mode             0\n",
       "Customer Name         0\n",
       "Segment               0\n",
       "City                  0\n",
       "State                 0\n",
       "Country               0\n",
       "Postal Code       37195\n",
       "Market                0\n",
       "Region                0\n",
       "Product ID            0\n",
       "Category              0\n",
       "Sub-Category          0\n",
       "Product Name          0\n",
       "Sales                 0\n",
       "Quantity              0\n",
       "Discount              0\n",
       "Profit                0\n",
       "Shipping Cost         0\n",
       "Order Priority        0\n",
       "month                 0\n",
       "day                   0\n",
       "year                  0\n",
       "dtype: int64"
      ]
     },
     "execution_count": 33,
     "metadata": {},
     "output_type": "execute_result"
    }
   ],
   "source": [
    "#data preparing for modeling stage in ML\n",
    "train.isna().sum()"
   ]
  },
  {
   "cell_type": "code",
   "execution_count": 34,
   "id": "7252c261",
   "metadata": {},
   "outputs": [],
   "source": [
    "train.drop(columns='Postal Code', inplace=True)"
   ]
  },
  {
   "cell_type": "markdown",
   "id": "86a27a22",
   "metadata": {},
   "source": [
    "___deal with the categorical data "
   ]
  },
  {
   "cell_type": "code",
   "execution_count": 35,
   "id": "6f1c33ad",
   "metadata": {},
   "outputs": [
    {
     "data": {
      "text/plain": [
       "0"
      ]
     },
     "execution_count": 35,
     "metadata": {},
     "output_type": "execute_result"
    }
   ],
   "source": [
    "train.duplicated().sum()"
   ]
  },
  {
   "cell_type": "code",
   "execution_count": 36,
   "id": "3da8984a",
   "metadata": {},
   "outputs": [
    {
     "name": "stdout",
     "output_type": "stream",
     "text": [
      "<class 'pandas.core.frame.DataFrame'>\n",
      "Index: 46161 entries, 19288 to 35683\n",
      "Data columns (total 23 columns):\n",
      " #   Column          Non-Null Count  Dtype         \n",
      "---  ------          --------------  -----         \n",
      " 0   Order Date      46161 non-null  datetime64[ns]\n",
      " 1   Ship Date       46161 non-null  datetime64[ns]\n",
      " 2   Ship Mode       46161 non-null  object        \n",
      " 3   Customer Name   46161 non-null  object        \n",
      " 4   Segment         46161 non-null  object        \n",
      " 5   City            46161 non-null  object        \n",
      " 6   State           46161 non-null  object        \n",
      " 7   Country         46161 non-null  object        \n",
      " 8   Market          46161 non-null  object        \n",
      " 9   Region          46161 non-null  object        \n",
      " 10  Product ID      46161 non-null  object        \n",
      " 11  Category        46161 non-null  object        \n",
      " 12  Sub-Category    46161 non-null  object        \n",
      " 13  Product Name    46161 non-null  object        \n",
      " 14  Sales           46161 non-null  float64       \n",
      " 15  Quantity        46161 non-null  int64         \n",
      " 16  Discount        46161 non-null  float64       \n",
      " 17  Profit          46161 non-null  float64       \n",
      " 18  Shipping Cost   46161 non-null  float64       \n",
      " 19  Order Priority  46161 non-null  object        \n",
      " 20  month           46161 non-null  int32         \n",
      " 21  day             46161 non-null  int32         \n",
      " 22  year            46161 non-null  int32         \n",
      "dtypes: datetime64[ns](2), float64(4), int32(3), int64(1), object(13)\n",
      "memory usage: 7.9+ MB\n"
     ]
    }
   ],
   "source": [
    "#deal with the categorical data\n",
    "\n",
    "train.info()"
   ]
  },
  {
   "cell_type": "code",
   "execution_count": 37,
   "id": "b011da7a",
   "metadata": {},
   "outputs": [],
   "source": [
    "#extract the day, month,yera from the ship date col and creat new col for them\n",
    "train['ship_month']=train['Ship Date'].dt.month\n",
    "train['ship_day']=train['Ship Date'].dt.day\n",
    "train['ship_year']=train['Ship Date'].dt.year"
   ]
  },
  {
   "cell_type": "markdown",
   "id": "d763cce1",
   "metadata": {},
   "source": [
    "**categorical columns\n",
    "fid alternative numerical col:lat and long for city, state,country"
   ]
  },
  {
   "cell_type": "code",
   "execution_count": 38,
   "id": "d34a51fc",
   "metadata": {},
   "outputs": [
    {
     "data": {
      "text/plain": [
       "Segment\n",
       "Consumer       23833\n",
       "Corporate      13887\n",
       "Home Office     8441\n",
       "Name: count, dtype: int64"
      ]
     },
     "execution_count": 38,
     "metadata": {},
     "output_type": "execute_result"
    }
   ],
   "source": [
    "train.Segment.value_counts()"
   ]
  },
  {
   "cell_type": "code",
   "execution_count": 39,
   "id": "cba75172",
   "metadata": {},
   "outputs": [
    {
     "data": {
      "text/plain": [
       "1087"
      ]
     },
     "execution_count": 39,
     "metadata": {},
     "output_type": "execute_result"
    }
   ],
   "source": [
    "train.State.nunique()#too many rows so can not use it for one hot encoding"
   ]
  },
  {
   "cell_type": "code",
   "execution_count": 40,
   "id": "e21306d0",
   "metadata": {},
   "outputs": [
    {
     "data": {
      "text/plain": [
       "147"
      ]
     },
     "execution_count": 40,
     "metadata": {},
     "output_type": "execute_result"
    }
   ],
   "source": [
    "train.Country.nunique()"
   ]
  },
  {
   "cell_type": "code",
   "execution_count": 41,
   "id": "239e1de3",
   "metadata": {},
   "outputs": [],
   "source": [
    "#remove some categorical columns\n",
    "train.drop(columns=['City','State','Country','Customer Name','Product ID','Product Name','Region','Order Date','Ship Date','Category'],inplace=True)"
   ]
  },
  {
   "cell_type": "code",
   "execution_count": 42,
   "id": "2d54167c",
   "metadata": {},
   "outputs": [
    {
     "data": {
      "text/plain": [
       "17"
      ]
     },
     "execution_count": 42,
     "metadata": {},
     "output_type": "execute_result"
    }
   ],
   "source": [
    "train['Sub-Category'].nunique()"
   ]
  },
  {
   "cell_type": "code",
   "execution_count": 43,
   "id": "242c2197",
   "metadata": {},
   "outputs": [
    {
     "data": {
      "text/html": [
       "<div>\n",
       "<style scoped>\n",
       "    .dataframe tbody tr th:only-of-type {\n",
       "        vertical-align: middle;\n",
       "    }\n",
       "\n",
       "    .dataframe tbody tr th {\n",
       "        vertical-align: top;\n",
       "    }\n",
       "\n",
       "    .dataframe thead th {\n",
       "        text-align: right;\n",
       "    }\n",
       "</style>\n",
       "<table border=\"1\" class=\"dataframe\">\n",
       "  <thead>\n",
       "    <tr style=\"text-align: right;\">\n",
       "      <th></th>\n",
       "      <th>Ship Mode</th>\n",
       "      <th>Segment</th>\n",
       "      <th>Market</th>\n",
       "      <th>Sub-Category</th>\n",
       "      <th>Sales</th>\n",
       "      <th>Quantity</th>\n",
       "      <th>Discount</th>\n",
       "      <th>Profit</th>\n",
       "      <th>Shipping Cost</th>\n",
       "      <th>Order Priority</th>\n",
       "      <th>month</th>\n",
       "      <th>day</th>\n",
       "      <th>year</th>\n",
       "      <th>ship_month</th>\n",
       "      <th>ship_day</th>\n",
       "      <th>ship_year</th>\n",
       "    </tr>\n",
       "  </thead>\n",
       "  <tbody>\n",
       "    <tr>\n",
       "      <th>5520</th>\n",
       "      <td>Standard Class</td>\n",
       "      <td>Corporate</td>\n",
       "      <td>LATAM</td>\n",
       "      <td>Bookcases</td>\n",
       "      <td>450.160</td>\n",
       "      <td>5</td>\n",
       "      <td>0.2</td>\n",
       "      <td>118.160</td>\n",
       "      <td>60.759</td>\n",
       "      <td>Low</td>\n",
       "      <td>11</td>\n",
       "      <td>28</td>\n",
       "      <td>2013</td>\n",
       "      <td>12</td>\n",
       "      <td>5</td>\n",
       "      <td>2013</td>\n",
       "    </tr>\n",
       "    <tr>\n",
       "      <th>35814</th>\n",
       "      <td>Same Day</td>\n",
       "      <td>Corporate</td>\n",
       "      <td>LATAM</td>\n",
       "      <td>Accessories</td>\n",
       "      <td>24.408</td>\n",
       "      <td>2</td>\n",
       "      <td>0.4</td>\n",
       "      <td>-4.912</td>\n",
       "      <td>3.348</td>\n",
       "      <td>High</td>\n",
       "      <td>4</td>\n",
       "      <td>25</td>\n",
       "      <td>2013</td>\n",
       "      <td>4</td>\n",
       "      <td>25</td>\n",
       "      <td>2013</td>\n",
       "    </tr>\n",
       "    <tr>\n",
       "      <th>20463</th>\n",
       "      <td>Standard Class</td>\n",
       "      <td>Corporate</td>\n",
       "      <td>EU</td>\n",
       "      <td>Machines</td>\n",
       "      <td>175.725</td>\n",
       "      <td>3</td>\n",
       "      <td>0.5</td>\n",
       "      <td>-151.155</td>\n",
       "      <td>12.020</td>\n",
       "      <td>Medium</td>\n",
       "      <td>12</td>\n",
       "      <td>12</td>\n",
       "      <td>2013</td>\n",
       "      <td>12</td>\n",
       "      <td>19</td>\n",
       "      <td>2013</td>\n",
       "    </tr>\n",
       "    <tr>\n",
       "      <th>18638</th>\n",
       "      <td>Standard Class</td>\n",
       "      <td>Consumer</td>\n",
       "      <td>Africa</td>\n",
       "      <td>Bookcases</td>\n",
       "      <td>249.180</td>\n",
       "      <td>2</td>\n",
       "      <td>0.0</td>\n",
       "      <td>72.240</td>\n",
       "      <td>14.100</td>\n",
       "      <td>Medium</td>\n",
       "      <td>8</td>\n",
       "      <td>13</td>\n",
       "      <td>2014</td>\n",
       "      <td>8</td>\n",
       "      <td>17</td>\n",
       "      <td>2014</td>\n",
       "    </tr>\n",
       "    <tr>\n",
       "      <th>35683</th>\n",
       "      <td>Standard Class</td>\n",
       "      <td>Consumer</td>\n",
       "      <td>LATAM</td>\n",
       "      <td>Chairs</td>\n",
       "      <td>78.120</td>\n",
       "      <td>2</td>\n",
       "      <td>0.0</td>\n",
       "      <td>35.920</td>\n",
       "      <td>3.382</td>\n",
       "      <td>Medium</td>\n",
       "      <td>9</td>\n",
       "      <td>27</td>\n",
       "      <td>2011</td>\n",
       "      <td>10</td>\n",
       "      <td>4</td>\n",
       "      <td>2011</td>\n",
       "    </tr>\n",
       "  </tbody>\n",
       "</table>\n",
       "</div>"
      ],
      "text/plain": [
       "            Ship Mode    Segment  Market Sub-Category    Sales  Quantity  \\\n",
       "5520   Standard Class  Corporate   LATAM    Bookcases  450.160         5   \n",
       "35814        Same Day  Corporate   LATAM  Accessories   24.408         2   \n",
       "20463  Standard Class  Corporate      EU     Machines  175.725         3   \n",
       "18638  Standard Class   Consumer  Africa    Bookcases  249.180         2   \n",
       "35683  Standard Class   Consumer   LATAM       Chairs   78.120         2   \n",
       "\n",
       "       Discount   Profit  Shipping Cost Order Priority  month  day  year  \\\n",
       "5520        0.2  118.160         60.759            Low     11   28  2013   \n",
       "35814       0.4   -4.912          3.348           High      4   25  2013   \n",
       "20463       0.5 -151.155         12.020         Medium     12   12  2013   \n",
       "18638       0.0   72.240         14.100         Medium      8   13  2014   \n",
       "35683       0.0   35.920          3.382         Medium      9   27  2011   \n",
       "\n",
       "       ship_month  ship_day  ship_year  \n",
       "5520           12         5       2013  \n",
       "35814           4        25       2013  \n",
       "20463          12        19       2013  \n",
       "18638           8        17       2014  \n",
       "35683          10         4       2011  "
      ]
     },
     "execution_count": 43,
     "metadata": {},
     "output_type": "execute_result"
    }
   ],
   "source": [
    "train.tail()"
   ]
  },
  {
   "cell_type": "code",
   "execution_count": 44,
   "id": "cb9b51e8",
   "metadata": {},
   "outputs": [],
   "source": [
    "#ordinal encoding for the order priority since the col is ordinal low,medium and high\n",
    "\n",
    "from sklearn.preprocessing import LabelEncoder\n",
    "from sklearn.preprocessing import OneHotEncoder"
   ]
  },
  {
   "cell_type": "code",
   "execution_count": 45,
   "id": "c84b665a",
   "metadata": {},
   "outputs": [],
   "source": [
    "Ordinal_encoder=LabelEncoder()"
   ]
  },
  {
   "cell_type": "code",
   "execution_count": 48,
   "id": "5bb8f320",
   "metadata": {},
   "outputs": [],
   "source": [
    "#fit_transform\n",
    "train['Order Priority']=Ordinal_encoder.fit_transform(train['Order Priority'])"
   ]
  },
  {
   "cell_type": "code",
   "execution_count": 49,
   "id": "5de7fe33",
   "metadata": {},
   "outputs": [
    {
     "data": {
      "text/plain": [
       "19288    3\n",
       "46200    3\n",
       "43251    3\n",
       "36331    1\n",
       "7485     2\n",
       "        ..\n",
       "5520     2\n",
       "35814    1\n",
       "20463    3\n",
       "18638    3\n",
       "35683    3\n",
       "Name: Order Priority, Length: 46161, dtype: int32"
      ]
     },
     "execution_count": 49,
     "metadata": {},
     "output_type": "execute_result"
    }
   ],
   "source": [
    "train['Order Priority']"
   ]
  },
  {
   "cell_type": "markdown",
   "id": "71526878",
   "metadata": {},
   "source": [
    "## use 4 one hot/label encoder to transform remaining categorical data to numerical data\n",
    "\n",
    "1.ship mode\n",
    "\n",
    "2.segment\n",
    "\n",
    "3.market\n",
    "\n",
    "4.sub-category\n"
   ]
  },
  {
   "cell_type": "code",
   "execution_count": null,
   "id": "b8ce5cde",
   "metadata": {},
   "outputs": [],
   "source": []
  }
 ],
 "metadata": {
  "kernelspec": {
   "display_name": "Python 3 (ipykernel)",
   "language": "python",
   "name": "python3"
  },
  "language_info": {
   "codemirror_mode": {
    "name": "ipython",
    "version": 3
   },
   "file_extension": ".py",
   "mimetype": "text/x-python",
   "name": "python",
   "nbconvert_exporter": "python",
   "pygments_lexer": "ipython3",
   "version": "3.11.5"
  }
 },
 "nbformat": 4,
 "nbformat_minor": 5
}
