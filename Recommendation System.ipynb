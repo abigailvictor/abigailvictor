{
 "cells": [
  {
   "cell_type": "markdown",
   "id": "f37e3638",
   "metadata": {},
   "source": [
    "### New RS"
   ]
  },
  {
   "cell_type": "code",
   "execution_count": 1,
   "id": "cc254474",
   "metadata": {},
   "outputs": [],
   "source": [
    "class NewsRS:\n",
    "    pass"
   ]
  },
  {
   "cell_type": "markdown",
   "id": "877567f8",
   "metadata": {},
   "source": [
    "__read_df__ "
   ]
  },
  {
   "cell_type": "code",
   "execution_count": 2,
   "id": "2276ac44",
   "metadata": {},
   "outputs": [],
   "source": [
    "import pandas as pd"
   ]
  },
  {
   "cell_type": "code",
   "execution_count": 3,
   "id": "d3ec07e6",
   "metadata": {},
   "outputs": [],
   "source": [
    "df = pd.read_csv('shared_articles.csv')"
   ]
  },
  {
   "cell_type": "code",
   "execution_count": 7,
   "id": "0d06d56f",
   "metadata": {},
   "outputs": [],
   "source": [
    "df.drop(columns='Unnamed: 0', inplace=True)"
   ]
  },
  {
   "cell_type": "code",
   "execution_count": 8,
   "id": "921bce67",
   "metadata": {
    "scrolled": true
   },
   "outputs": [
    {
     "data": {
      "text/html": [
       "<div>\n",
       "<style scoped>\n",
       "    .dataframe tbody tr th:only-of-type {\n",
       "        vertical-align: middle;\n",
       "    }\n",
       "\n",
       "    .dataframe tbody tr th {\n",
       "        vertical-align: top;\n",
       "    }\n",
       "\n",
       "    .dataframe thead th {\n",
       "        text-align: right;\n",
       "    }\n",
       "</style>\n",
       "<table border=\"1\" class=\"dataframe\">\n",
       "  <thead>\n",
       "    <tr style=\"text-align: right;\">\n",
       "      <th></th>\n",
       "      <th>url</th>\n",
       "      <th>title</th>\n",
       "    </tr>\n",
       "  </thead>\n",
       "  <tbody>\n",
       "    <tr>\n",
       "      <th>0</th>\n",
       "      <td>http://www.nytimes.com/2016/03/28/business/dea...</td>\n",
       "      <td>Ethereum, a Virtual Currency, Enables Transact...</td>\n",
       "    </tr>\n",
       "    <tr>\n",
       "      <th>1</th>\n",
       "      <td>http://www.nytimes.com/2016/03/28/business/dea...</td>\n",
       "      <td>Ethereum, a Virtual Currency, Enables Transact...</td>\n",
       "    </tr>\n",
       "    <tr>\n",
       "      <th>2</th>\n",
       "      <td>http://cointelegraph.com/news/bitcoin-future-w...</td>\n",
       "      <td>Bitcoin Future: When GBPcoin of Branson Wins O...</td>\n",
       "    </tr>\n",
       "    <tr>\n",
       "      <th>3</th>\n",
       "      <td>https://cloudplatform.googleblog.com/2016/03/G...</td>\n",
       "      <td>Google Data Center 360° Tour</td>\n",
       "    </tr>\n",
       "    <tr>\n",
       "      <th>4</th>\n",
       "      <td>https://bitcoinmagazine.com/articles/ibm-wants...</td>\n",
       "      <td>IBM Wants to \"Evolve the Internet\" With Blockc...</td>\n",
       "    </tr>\n",
       "    <tr>\n",
       "      <th>...</th>\n",
       "      <td>...</td>\n",
       "      <td>...</td>\n",
       "    </tr>\n",
       "    <tr>\n",
       "      <th>3117</th>\n",
       "      <td>https://startupi.com.br/2017/02/liga-ventures-...</td>\n",
       "      <td>Conheça a Liga IoT, plataforma de inovação abe...</td>\n",
       "    </tr>\n",
       "    <tr>\n",
       "      <th>3118</th>\n",
       "      <td>https://thenextweb.com/apps/2017/02/14/amazon-...</td>\n",
       "      <td>Amazon takes on Skype and GoToMeeting with its...</td>\n",
       "    </tr>\n",
       "    <tr>\n",
       "      <th>3119</th>\n",
       "      <td>https://code.org/about/2016</td>\n",
       "      <td>Code.org 2016 Annual Report</td>\n",
       "    </tr>\n",
       "    <tr>\n",
       "      <th>3120</th>\n",
       "      <td>https://www.bloomberg.com/news/articles/2017-0...</td>\n",
       "      <td>JPMorgan Software Does in Seconds What Took La...</td>\n",
       "    </tr>\n",
       "    <tr>\n",
       "      <th>3121</th>\n",
       "      <td>https://www.acquia.com/blog/partner/2017-acqui...</td>\n",
       "      <td>The 2017 Acquia Partners of the Year</td>\n",
       "    </tr>\n",
       "  </tbody>\n",
       "</table>\n",
       "<p>3122 rows × 2 columns</p>\n",
       "</div>"
      ],
      "text/plain": [
       "                                                    url  \\\n",
       "0     http://www.nytimes.com/2016/03/28/business/dea...   \n",
       "1     http://www.nytimes.com/2016/03/28/business/dea...   \n",
       "2     http://cointelegraph.com/news/bitcoin-future-w...   \n",
       "3     https://cloudplatform.googleblog.com/2016/03/G...   \n",
       "4     https://bitcoinmagazine.com/articles/ibm-wants...   \n",
       "...                                                 ...   \n",
       "3117  https://startupi.com.br/2017/02/liga-ventures-...   \n",
       "3118  https://thenextweb.com/apps/2017/02/14/amazon-...   \n",
       "3119                        https://code.org/about/2016   \n",
       "3120  https://www.bloomberg.com/news/articles/2017-0...   \n",
       "3121  https://www.acquia.com/blog/partner/2017-acqui...   \n",
       "\n",
       "                                                  title  \n",
       "0     Ethereum, a Virtual Currency, Enables Transact...  \n",
       "1     Ethereum, a Virtual Currency, Enables Transact...  \n",
       "2     Bitcoin Future: When GBPcoin of Branson Wins O...  \n",
       "3                          Google Data Center 360° Tour  \n",
       "4     IBM Wants to \"Evolve the Internet\" With Blockc...  \n",
       "...                                                 ...  \n",
       "3117  Conheça a Liga IoT, plataforma de inovação abe...  \n",
       "3118  Amazon takes on Skype and GoToMeeting with its...  \n",
       "3119                        Code.org 2016 Annual Report  \n",
       "3120  JPMorgan Software Does in Seconds What Took La...  \n",
       "3121               The 2017 Acquia Partners of the Year  \n",
       "\n",
       "[3122 rows x 2 columns]"
      ]
     },
     "execution_count": 8,
     "metadata": {},
     "output_type": "execute_result"
    }
   ],
   "source": [
    "df"
   ]
  },
  {
   "cell_type": "markdown",
   "id": "aea7056d",
   "metadata": {},
   "source": [
    "Null_Values & Duplicated"
   ]
  },
  {
   "cell_type": "code",
   "execution_count": 9,
   "id": "35bb5670",
   "metadata": {},
   "outputs": [
    {
     "data": {
      "text/plain": [
       "url      0\n",
       "title    0\n",
       "dtype: int64"
      ]
     },
     "execution_count": 9,
     "metadata": {},
     "output_type": "execute_result"
    }
   ],
   "source": [
    "df.isna().sum()"
   ]
  },
  {
   "cell_type": "code",
   "execution_count": 11,
   "id": "dc26418e",
   "metadata": {},
   "outputs": [
    {
     "data": {
      "text/plain": [
       "90"
      ]
     },
     "execution_count": 11,
     "metadata": {},
     "output_type": "execute_result"
    }
   ],
   "source": [
    "df.duplicated().sum()"
   ]
  },
  {
   "cell_type": "code",
   "execution_count": 12,
   "id": "9cc86e23",
   "metadata": {},
   "outputs": [],
   "source": [
    "df.drop_duplicates(inplace=True)"
   ]
  },
  {
   "cell_type": "code",
   "execution_count": 76,
   "id": "3b2567ac",
   "metadata": {},
   "outputs": [],
   "source": [
    "df.reset_index(drop=True, inplace=True)"
   ]
  },
  {
   "cell_type": "markdown",
   "id": "16b3a8b1",
   "metadata": {},
   "source": [
    "__pre_processing__ "
   ]
  },
  {
   "cell_type": "code",
   "execution_count": 14,
   "id": "3d6595e8",
   "metadata": {},
   "outputs": [],
   "source": [
    "import re\n",
    "from nltk.corpus import stopwords\n",
    "from nltk.tokenize import word_tokenize\n",
    "from nltk.stem import PorterStemmer"
   ]
  },
  {
   "cell_type": "code",
   "execution_count": 13,
   "id": "79b6235d",
   "metadata": {},
   "outputs": [
    {
     "data": {
      "text/plain": [
       "'like'"
      ]
     },
     "execution_count": 13,
     "metadata": {},
     "output_type": "execute_result"
    }
   ],
   "source": [
    "\"Like\"\n",
    "\"like\"\n",
    "\"LIKE\".lower()"
   ]
  },
  {
   "cell_type": "code",
   "execution_count": 28,
   "id": "fc9b8cc7",
   "metadata": {
    "scrolled": true
   },
   "outputs": [],
   "source": [
    "en_stopewords = stopwords.words('English')"
   ]
  },
  {
   "cell_type": "code",
   "execution_count": 30,
   "id": "0f036549",
   "metadata": {},
   "outputs": [],
   "source": [
    "stemmer = PorterStemmer()"
   ]
  },
  {
   "cell_type": "code",
   "execution_count": 35,
   "id": "e1225d04",
   "metadata": {},
   "outputs": [
    {
     "data": {
      "text/plain": [
       "'play'"
      ]
     },
     "execution_count": 35,
     "metadata": {},
     "output_type": "execute_result"
    }
   ],
   "source": [
    "verb1 = 'Playing'\n",
    "verb2 = 'Plays'\n",
    "verb3 = 'Played'\n",
    "\n",
    "stemmer.stem(verb1)"
   ]
  },
  {
   "cell_type": "code",
   "execution_count": 36,
   "id": "1af1f302",
   "metadata": {},
   "outputs": [],
   "source": [
    "def pre_process(article):\n",
    "    article = article.lower()\n",
    "    clean_article = re.sub('[^a-z1-9 ]', '', article).strip()\n",
    "    \n",
    "    tokens = word_tokenize(clean_article)\n",
    "    temp = []\n",
    "    \n",
    "    for token in tokens:\n",
    "        if token not in en_stopewords:\n",
    "            stemed_token = stemmer.stem(token)\n",
    "            temp.append(stemed_token)\n",
    "    \n",
    "    return ' '.join(temp)"
   ]
  },
  {
   "cell_type": "code",
   "execution_count": 40,
   "id": "26db56a9",
   "metadata": {},
   "outputs": [
    {
     "data": {
      "text/plain": [
       "'hate laba play'"
      ]
     },
     "execution_count": 40,
     "metadata": {},
     "output_type": "execute_result"
    }
   ],
   "source": [
    "s = \"I hate *& % laba $ plays on\"\n",
    "pre_process(s)"
   ]
  },
  {
   "cell_type": "markdown",
   "id": "57ba6c9f",
   "metadata": {},
   "source": [
    "__Clean titles__"
   ]
  },
  {
   "cell_type": "code",
   "execution_count": 51,
   "id": "5cb2a121",
   "metadata": {
    "scrolled": true
   },
   "outputs": [
    {
     "data": {
      "text/plain": [
       "0       ethereum virtual currenc enabl transact rival ...\n",
       "2         bitcoin futur gbpcoin branson win usdcoin trump\n",
       "3                               googl data center 36 tour\n",
       "4            ibm want evolv internet blockchain technolog\n",
       "5       ieee talk blockchain cloud comput oxfordcon co...\n",
       "                              ...                        \n",
       "3117    conhea liga iot plataforma de inovao aberta qu...\n",
       "3118    amazon take skype gotomeet chime video confere...\n",
       "3119                            codeorg 216 annual report\n",
       "3120          jpmorgan softwar second took lawyer 36 hour\n",
       "3121                              217 acquia partner year\n",
       "Name: title, Length: 3032, dtype: object"
      ]
     },
     "execution_count": 51,
     "metadata": {},
     "output_type": "execute_result"
    }
   ],
   "source": [
    "X = df.title.apply(pre_process)\n",
    "X"
   ]
  },
  {
   "cell_type": "markdown",
   "id": "d96ef802",
   "metadata": {},
   "source": [
    "__Feature_extraction__"
   ]
  },
  {
   "cell_type": "code",
   "execution_count": 52,
   "id": "ce37a182",
   "metadata": {},
   "outputs": [],
   "source": [
    "from sklearn.feature_extraction.text import TfidfVectorizer"
   ]
  },
  {
   "cell_type": "code",
   "execution_count": 53,
   "id": "81c3c300",
   "metadata": {},
   "outputs": [],
   "source": [
    "tf_idf = TfidfVectorizer()"
   ]
  },
  {
   "cell_type": "code",
   "execution_count": 54,
   "id": "4c99a822",
   "metadata": {},
   "outputs": [],
   "source": [
    "X_trans = tf_idf.fit_transform(X).toarray()"
   ]
  },
  {
   "cell_type": "code",
   "execution_count": 55,
   "id": "1101481f",
   "metadata": {},
   "outputs": [
    {
     "data": {
      "text/plain": [
       "(3032, 5908)"
      ]
     },
     "execution_count": 55,
     "metadata": {},
     "output_type": "execute_result"
    }
   ],
   "source": [
    "X_trans.shape"
   ]
  },
  {
   "cell_type": "markdown",
   "id": "29bd4aaf",
   "metadata": {},
   "source": [
    "### Model"
   ]
  },
  {
   "cell_type": "code",
   "execution_count": 48,
   "id": "a4eb7754",
   "metadata": {},
   "outputs": [],
   "source": [
    "from sklearn.neighbors import NearestNeighbors"
   ]
  },
  {
   "cell_type": "code",
   "execution_count": 83,
   "id": "bc1ebe6c",
   "metadata": {},
   "outputs": [],
   "source": [
    "def train():\n",
    "    model = NearestNeighbors()\n",
    "    model.fit(X_trans)"
   ]
  },
  {
   "cell_type": "code",
   "execution_count": 84,
   "id": "550e8663",
   "metadata": {},
   "outputs": [],
   "source": [
    "train()"
   ]
  },
  {
   "cell_type": "code",
   "execution_count": 68,
   "id": "6b2ad85c",
   "metadata": {},
   "outputs": [],
   "source": [
    "def predict(article):\n",
    "    clean_article = pre_process(article)\n",
    "    clean_article_trans = tf_idf.transform([clean_article])\n",
    "    indices = model.kneighbors(clean_article_trans, n_neighbors=5, return_distance=False)[0]\n",
    "    return indices"
   ]
  },
  {
   "cell_type": "code",
   "execution_count": 69,
   "id": "c0c8dd70",
   "metadata": {},
   "outputs": [],
   "source": [
    "article_to_reco = df.title.loc[0]"
   ]
  },
  {
   "cell_type": "code",
   "execution_count": 70,
   "id": "5711dde3",
   "metadata": {},
   "outputs": [
    {
     "data": {
      "text/plain": [
       "\"Ethereum, a Virtual Currency, Enables Transactions That Rival Bitcoin's\""
      ]
     },
     "execution_count": 70,
     "metadata": {},
     "output_type": "execute_result"
    }
   ],
   "source": [
    "article_to_reco"
   ]
  },
  {
   "cell_type": "code",
   "execution_count": 71,
   "id": "5b17e1b8",
   "metadata": {},
   "outputs": [
    {
     "data": {
      "text/plain": [
       "array([   0,  179,  176,  935, 2378], dtype=int64)"
      ]
     },
     "execution_count": 71,
     "metadata": {},
     "output_type": "execute_result"
    }
   ],
   "source": [
    "predict(article_to_reco)"
   ]
  },
  {
   "cell_type": "code",
   "execution_count": 78,
   "id": "bbe5e656",
   "metadata": {},
   "outputs": [],
   "source": [
    "articles = df.loc[[   0,  179,  176,  935, 2378]]"
   ]
  },
  {
   "cell_type": "code",
   "execution_count": 79,
   "id": "6db44474",
   "metadata": {
    "scrolled": true
   },
   "outputs": [
    {
     "data": {
      "text/html": [
       "<div>\n",
       "<style scoped>\n",
       "    .dataframe tbody tr th:only-of-type {\n",
       "        vertical-align: middle;\n",
       "    }\n",
       "\n",
       "    .dataframe tbody tr th {\n",
       "        vertical-align: top;\n",
       "    }\n",
       "\n",
       "    .dataframe thead th {\n",
       "        text-align: right;\n",
       "    }\n",
       "</style>\n",
       "<table border=\"1\" class=\"dataframe\">\n",
       "  <thead>\n",
       "    <tr style=\"text-align: right;\">\n",
       "      <th></th>\n",
       "      <th>url</th>\n",
       "      <th>title</th>\n",
       "    </tr>\n",
       "  </thead>\n",
       "  <tbody>\n",
       "    <tr>\n",
       "      <th>0</th>\n",
       "      <td>http://www.nytimes.com/2016/03/28/business/dea...</td>\n",
       "      <td>Ethereum, a Virtual Currency, Enables Transact...</td>\n",
       "    </tr>\n",
       "    <tr>\n",
       "      <th>179</th>\n",
       "      <td>https://news.bitcoin.com/microsoft-embrace-dig...</td>\n",
       "      <td>Microsoft Continues to Embrace Ethereum &amp; Bitc...</td>\n",
       "    </tr>\n",
       "    <tr>\n",
       "      <th>176</th>\n",
       "      <td>http://www.newsbtc.com/2016/04/02/ethereum-bit...</td>\n",
       "      <td>Ethereum and Bitcoin Are Market Leaders But No...</td>\n",
       "    </tr>\n",
       "    <tr>\n",
       "      <th>935</th>\n",
       "      <td>http://techcrunch.com/2016/05/16/blockchain-op...</td>\n",
       "      <td>Blockchain open sources Thunder network, pavin...</td>\n",
       "    </tr>\n",
       "    <tr>\n",
       "      <th>2378</th>\n",
       "      <td>https://www.cryptocoinsnews.com/bitcoin-accept...</td>\n",
       "      <td>Bitcoin Accepted! German Energy Giant Enables ...</td>\n",
       "    </tr>\n",
       "  </tbody>\n",
       "</table>\n",
       "</div>"
      ],
      "text/plain": [
       "                                                    url  \\\n",
       "0     http://www.nytimes.com/2016/03/28/business/dea...   \n",
       "179   https://news.bitcoin.com/microsoft-embrace-dig...   \n",
       "176   http://www.newsbtc.com/2016/04/02/ethereum-bit...   \n",
       "935   http://techcrunch.com/2016/05/16/blockchain-op...   \n",
       "2378  https://www.cryptocoinsnews.com/bitcoin-accept...   \n",
       "\n",
       "                                                  title  \n",
       "0     Ethereum, a Virtual Currency, Enables Transact...  \n",
       "179   Microsoft Continues to Embrace Ethereum & Bitc...  \n",
       "176   Ethereum and Bitcoin Are Market Leaders But No...  \n",
       "935   Blockchain open sources Thunder network, pavin...  \n",
       "2378  Bitcoin Accepted! German Energy Giant Enables ...  "
      ]
     },
     "execution_count": 79,
     "metadata": {},
     "output_type": "execute_result"
    }
   ],
   "source": [
    "articles"
   ]
  },
  {
   "cell_type": "code",
   "execution_count": 81,
   "id": "a8db6760",
   "metadata": {},
   "outputs": [
    {
     "name": "stdout",
     "output_type": "stream",
     "text": [
      "Ethereum, a Virtual Currency, Enables Transactions That Rival Bitcoin's\n",
      "Microsoft Continues to Embrace Ethereum & Bitcoin - Bitcoin News\n",
      "Ethereum and Bitcoin Are Market Leaders But Not Competitors\n",
      "Blockchain open sources Thunder network, paving the way for instant bitcoin transactions\n",
      "Bitcoin Accepted! German Energy Giant Enables Payments - CCN: Financial Bitcoin & Cryptocurrency News\n"
     ]
    }
   ],
   "source": [
    "for title in articles.title:\n",
    "    print(title)"
   ]
  },
  {
   "cell_type": "code",
   "execution_count": 91,
   "id": "6d89051e",
   "metadata": {},
   "outputs": [],
   "source": [
    "article_to_reco = df.title.loc[173]"
   ]
  },
  {
   "cell_type": "code",
   "execution_count": 92,
   "id": "822d2e7f",
   "metadata": {},
   "outputs": [
    {
     "data": {
      "text/plain": [
       "'Venture Capitalists Inject Nearly Half a Billion in Bitcoin'"
      ]
     },
     "execution_count": 92,
     "metadata": {},
     "output_type": "execute_result"
    }
   ],
   "source": [
    "article_to_reco"
   ]
  },
  {
   "cell_type": "code",
   "execution_count": 93,
   "id": "80aad9c1",
   "metadata": {},
   "outputs": [],
   "source": [
    "indices = predict(article_to_reco)"
   ]
  },
  {
   "cell_type": "code",
   "execution_count": 94,
   "id": "d6fcfaf9",
   "metadata": {},
   "outputs": [
    {
     "data": {
      "text/html": [
       "<div>\n",
       "<style scoped>\n",
       "    .dataframe tbody tr th:only-of-type {\n",
       "        vertical-align: middle;\n",
       "    }\n",
       "\n",
       "    .dataframe tbody tr th {\n",
       "        vertical-align: top;\n",
       "    }\n",
       "\n",
       "    .dataframe thead th {\n",
       "        text-align: right;\n",
       "    }\n",
       "</style>\n",
       "<table border=\"1\" class=\"dataframe\">\n",
       "  <thead>\n",
       "    <tr style=\"text-align: right;\">\n",
       "      <th></th>\n",
       "      <th>url</th>\n",
       "      <th>title</th>\n",
       "    </tr>\n",
       "  </thead>\n",
       "  <tbody>\n",
       "    <tr>\n",
       "      <th>173</th>\n",
       "      <td>http://www.newsbtc.com/2016/04/04/venture-capi...</td>\n",
       "      <td>Venture Capitalists Inject Nearly Half a Billi...</td>\n",
       "    </tr>\n",
       "    <tr>\n",
       "      <th>2104</th>\n",
       "      <td>https://www.mindmeister.com/pt/694609910/bitco...</td>\n",
       "      <td>Bitcoin / Blockchain</td>\n",
       "    </tr>\n",
       "    <tr>\n",
       "      <th>2506</th>\n",
       "      <td>http://martinfowler.com/articles/injection.html</td>\n",
       "      <td>Inversion of Control Containers and the Depend...</td>\n",
       "    </tr>\n",
       "    <tr>\n",
       "      <th>543</th>\n",
       "      <td>http://www.npr.org/sections/health-shots/2016/...</td>\n",
       "      <td>Half Your Brain Stands Guard When Sleeping In ...</td>\n",
       "    </tr>\n",
       "    <tr>\n",
       "      <th>179</th>\n",
       "      <td>https://news.bitcoin.com/microsoft-embrace-dig...</td>\n",
       "      <td>Microsoft Continues to Embrace Ethereum &amp; Bitc...</td>\n",
       "    </tr>\n",
       "  </tbody>\n",
       "</table>\n",
       "</div>"
      ],
      "text/plain": [
       "                                                    url  \\\n",
       "173   http://www.newsbtc.com/2016/04/04/venture-capi...   \n",
       "2104  https://www.mindmeister.com/pt/694609910/bitco...   \n",
       "2506    http://martinfowler.com/articles/injection.html   \n",
       "543   http://www.npr.org/sections/health-shots/2016/...   \n",
       "179   https://news.bitcoin.com/microsoft-embrace-dig...   \n",
       "\n",
       "                                                  title  \n",
       "173   Venture Capitalists Inject Nearly Half a Billi...  \n",
       "2104                               Bitcoin / Blockchain  \n",
       "2506  Inversion of Control Containers and the Depend...  \n",
       "543   Half Your Brain Stands Guard When Sleeping In ...  \n",
       "179   Microsoft Continues to Embrace Ethereum & Bitc...  "
      ]
     },
     "execution_count": 94,
     "metadata": {},
     "output_type": "execute_result"
    }
   ],
   "source": [
    "df.loc[indices]"
   ]
  },
  {
   "cell_type": "code",
   "execution_count": null,
   "id": "67b97106",
   "metadata": {},
   "outputs": [],
   "source": []
  }
 ],
 "metadata": {
  "kernelspec": {
   "display_name": "Python 3 (ipykernel)",
   "language": "python",
   "name": "python3"
  },
  "language_info": {
   "codemirror_mode": {
    "name": "ipython",
    "version": 3
   },
   "file_extension": ".py",
   "mimetype": "text/x-python",
   "name": "python",
   "nbconvert_exporter": "python",
   "pygments_lexer": "ipython3",
   "version": "3.9.7"
  }
 },
 "nbformat": 4,
 "nbformat_minor": 5
}
